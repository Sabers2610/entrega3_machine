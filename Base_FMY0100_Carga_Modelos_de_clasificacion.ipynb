{
  "nbformat": 4,
  "nbformat_minor": 0,
  "metadata": {
    "colab": {
      "provenance": []
    },
    "kernelspec": {
      "name": "python3",
      "display_name": "Python 3"
    },
    "language_info": {
      "name": "python"
    }
  },
  "cells": [
    {
      "cell_type": "markdown",
      "source": [
        "# Carga Modelos de clasificación\n",
        "\n",
        "\n",
        "**Autor/es:**\n",
        "+ Luis Saez\n",
        "+ Erwin Nuñez\n",
        "\n",
        "**Correos Electrónicos:**\n",
        "+ lu.saezd@duocuc.cl\n",
        "+ er.nunez@duocuc.cl\n",
        "\n",
        "**Fecha de Creación:** Noviembre de 2024  \n",
        "**Versión:** 1.0\n",
        "\n",
        "---\n",
        "\n",
        "## Descripción\n",
        "\n",
        "Este notebook contiene el uso de modelos de clasificación cargados para la evaluación de modelos de clasificación de la asignatura de Fundamentos de Machine Learning de la carrera de Ingeniería en informática de DuocUC - Sede Concepción\n"
      ],
      "metadata": {
        "id": "ges6kPUBUVcq"
      }
    },
    {
      "cell_type": "markdown",
      "source": [
        "# Uso de modelos\n",
        "\n",
        "Acá debe cargar desde el archivo pickle cada variante y cargar el JSON con las entradas, generando así el JSON con las predicciones"
      ],
      "metadata": {
        "id": "8g-efcJsX3Ld"
      }
    },
    {
      "cell_type": "code",
      "source": [
        "import json\n",
        "import pickle\n",
        "import pandas as pd\n",
        "!pip install scikit-learn"
      ],
      "metadata": {
        "colab": {
          "base_uri": "https://localhost:8080/"
        },
        "id": "w-iqoXDCDNFa",
        "outputId": "8a054377-41b4-4cd6-f400-6c208991fc2f"
      },
      "execution_count": 1,
      "outputs": [
        {
          "output_type": "stream",
          "name": "stdout",
          "text": [
            "Requirement already satisfied: scikit-learn in /usr/local/lib/python3.10/dist-packages (1.5.2)\n",
            "Requirement already satisfied: numpy>=1.19.5 in /usr/local/lib/python3.10/dist-packages (from scikit-learn) (1.26.4)\n",
            "Requirement already satisfied: scipy>=1.6.0 in /usr/local/lib/python3.10/dist-packages (from scikit-learn) (1.13.1)\n",
            "Requirement already satisfied: joblib>=1.2.0 in /usr/local/lib/python3.10/dist-packages (from scikit-learn) (1.4.2)\n",
            "Requirement already satisfied: threadpoolctl>=3.1.0 in /usr/local/lib/python3.10/dist-packages (from scikit-learn) (3.5.0)\n"
          ]
        }
      ]
    },
    {
      "cell_type": "code",
      "source": [
        "!wget https://github.com/Sabers2610/entrega3_machine/raw/refs/heads/main/best_model.pkl\n",
        "!wget https://github.com/Sabers2610/entrega3_machine/raw/refs/heads/main/datos_artificiales_pca.json"
      ],
      "metadata": {
        "id": "-7VzL4lAX_GW",
        "colab": {
          "base_uri": "https://localhost:8080/"
        },
        "outputId": "c7f1f197-a73b-401b-ca00-84ebd1e00dcc"
      },
      "execution_count": 2,
      "outputs": [
        {
          "output_type": "stream",
          "name": "stdout",
          "text": [
            "--2024-11-20 12:54:24--  https://github.com/Sabers2610/entrega3_machine/raw/refs/heads/main/best_model.pkl\n",
            "Resolving github.com (github.com)... 140.82.113.4\n",
            "Connecting to github.com (github.com)|140.82.113.4|:443... connected.\n",
            "HTTP request sent, awaiting response... 302 Found\n",
            "Location: https://raw.githubusercontent.com/Sabers2610/entrega3_machine/refs/heads/main/best_model.pkl [following]\n",
            "--2024-11-20 12:54:24--  https://raw.githubusercontent.com/Sabers2610/entrega3_machine/refs/heads/main/best_model.pkl\n",
            "Resolving raw.githubusercontent.com (raw.githubusercontent.com)... 185.199.108.133, 185.199.111.133, 185.199.109.133, ...\n",
            "Connecting to raw.githubusercontent.com (raw.githubusercontent.com)|185.199.108.133|:443... connected.\n",
            "HTTP request sent, awaiting response... 200 OK\n",
            "Length: 2381327 (2.3M) [application/octet-stream]\n",
            "Saving to: ‘best_model.pkl’\n",
            "\n",
            "best_model.pkl      100%[===================>]   2.27M  --.-KB/s    in 0.07s   \n",
            "\n",
            "2024-11-20 12:54:24 (32.5 MB/s) - ‘best_model.pkl’ saved [2381327/2381327]\n",
            "\n",
            "--2024-11-20 12:54:24--  https://github.com/Sabers2610/entrega3_machine/raw/refs/heads/main/datos_artificiales_pca.json\n",
            "Resolving github.com (github.com)... 140.82.112.3\n",
            "Connecting to github.com (github.com)|140.82.112.3|:443... connected.\n",
            "HTTP request sent, awaiting response... 302 Found\n",
            "Location: https://raw.githubusercontent.com/Sabers2610/entrega3_machine/refs/heads/main/datos_artificiales_pca.json [following]\n",
            "--2024-11-20 12:54:24--  https://raw.githubusercontent.com/Sabers2610/entrega3_machine/refs/heads/main/datos_artificiales_pca.json\n",
            "Resolving raw.githubusercontent.com (raw.githubusercontent.com)... 185.199.111.133, 185.199.109.133, 185.199.108.133, ...\n",
            "Connecting to raw.githubusercontent.com (raw.githubusercontent.com)|185.199.111.133|:443... connected.\n",
            "HTTP request sent, awaiting response... 200 OK\n",
            "Length: 462 [text/plain]\n",
            "Saving to: ‘datos_artificiales_pca.json’\n",
            "\n",
            "datos_artificiales_ 100%[===================>]     462  --.-KB/s    in 0s      \n",
            "\n",
            "2024-11-20 12:54:24 (17.3 MB/s) - ‘datos_artificiales_pca.json’ saved [462/462]\n",
            "\n"
          ]
        }
      ]
    },
    {
      "cell_type": "code",
      "source": [
        "with open('best_model.pkl', 'rb') as f:\n",
        "    best_model = pickle.load(f)"
      ],
      "metadata": {
        "id": "NwSuBc3TC-Hs"
      },
      "execution_count": 3,
      "outputs": []
    },
    {
      "cell_type": "code",
      "source": [
        "url = 'datos_artificiales_pca.json'\n",
        "data = []\n",
        "with open(url, 'r') as f:\n",
        "    data = json.load(f)\n",
        "\n",
        "predicciones = []\n",
        "\n",
        "for entry in data:\n",
        "    X_new_1 = pd.DataFrame([entry], columns=['0','1','2'])\n",
        "    print(X_new_1)\n",
        "\n",
        "    # Realizar la predicción con el modelo de la alternativa 1\n",
        "    pred_1 = best_model.predict(X_new_1)[0]\n",
        "\n",
        "    predicciones.append({\n",
        "        'inputs': entry,\n",
        "        'prediction': pred_1\n",
        "})\n",
        "# Guardar el resultado en un archivo JSON\n",
        "json_con_predicciones = 'predictions_alternativa_1.json'\n",
        "with open(json_con_predicciones, 'w') as f:\n",
        "    json.dump(predicciones, f, indent=4)\n",
        "\n",
        "print(f\"Predicciones guardadas exitosamente en {json_con_predicciones}\")"
      ],
      "metadata": {
        "id": "64ggL0__DBcw"
      },
      "execution_count": null,
      "outputs": []
    }
  ]
}