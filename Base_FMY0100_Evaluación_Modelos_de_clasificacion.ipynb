{
  "nbformat": 4,
  "nbformat_minor": 0,
  "metadata": {
    "colab": {
      "provenance": []
    },
    "kernelspec": {
      "name": "python3",
      "display_name": "Python 3"
    },
    "language_info": {
      "name": "python"
    }
  },
  "cells": [
    {
      "cell_type": "markdown",
      "source": [
        "# Modelos de clasificación\n",
        "\n",
        "**Autor/es:**\n",
        "+ Luis Saez\n",
        "+ Erwin Nuñez\n",
        "\n",
        "**Correos Electrónicos:**\n",
        "+ lu.saezd@duocuc.cl\n",
        "+ er.nunez@duocuc.cl\n",
        "\n",
        "**Fecha de Creación:** 19 de Noviembre del 2024  \n",
        "**Versión:** 1.0\n",
        "\n",
        "---\n",
        "\n",
        "## Descripción\n",
        "\n",
        "Este notebook contiene el desarrollo de la evaluación de modelos de regresión de la asignatura de Fundamentos de Machine Learning de la carrera de Ingeniería en informática de DuocUC - Sede Concepción\n"
      ],
      "metadata": {
        "id": "ges6kPUBUVcq"
      }
    },
    {
      "cell_type": "code",
      "source": [
        "!wget https://www.dropbox.com/s/sst1u94436vqca6/demo_round_traces.csv"
      ],
      "metadata": {
        "id": "uTNl2gWno3cS",
        "colab": {
          "base_uri": "https://localhost:8080/"
        },
        "outputId": "f3912176-562d-4738-c6d3-1be092658a8c"
      },
      "execution_count": 1,
      "outputs": [
        {
          "output_type": "stream",
          "name": "stdout",
          "text": [
            "--2024-11-20 12:02:11--  https://www.dropbox.com/s/sst1u94436vqca6/demo_round_traces.csv\n",
            "Resolving www.dropbox.com (www.dropbox.com)... 162.125.5.18, 2620:100:601d:18::a27d:512\n",
            "Connecting to www.dropbox.com (www.dropbox.com)|162.125.5.18|:443... connected.\n",
            "HTTP request sent, awaiting response... 302 Found\n",
            "Location: https://www.dropbox.com/scl/fi/ujmigz0ky1r9ps75u8h1d/demo_round_traces.csv?rlkey=24f4k6ipomzkq1lj8kz2gayds [following]\n",
            "--2024-11-20 12:02:11--  https://www.dropbox.com/scl/fi/ujmigz0ky1r9ps75u8h1d/demo_round_traces.csv?rlkey=24f4k6ipomzkq1lj8kz2gayds\n",
            "Reusing existing connection to www.dropbox.com:443.\n",
            "HTTP request sent, awaiting response... 302 Found\n",
            "Location: https://uc9d82a11f40b38dff38b8a7f24f.dl.dropboxusercontent.com/cd/0/inline/CetzRHkdF0BjhyYOqz_zNIYpXpMmUyS5NVLtE7FiZNdXiHAUx3kOy4doi1Tu4pUc-VKKwPkkpCKZSrHhdxggCwG72GNQh8CpVqdqwn0iAjQ_zTsXQiNmKGytZPEKnnmxGeGLJOYHFyuS8AGuDqHT-yOf/file# [following]\n",
            "--2024-11-20 12:02:12--  https://uc9d82a11f40b38dff38b8a7f24f.dl.dropboxusercontent.com/cd/0/inline/CetzRHkdF0BjhyYOqz_zNIYpXpMmUyS5NVLtE7FiZNdXiHAUx3kOy4doi1Tu4pUc-VKKwPkkpCKZSrHhdxggCwG72GNQh8CpVqdqwn0iAjQ_zTsXQiNmKGytZPEKnnmxGeGLJOYHFyuS8AGuDqHT-yOf/file\n",
            "Resolving uc9d82a11f40b38dff38b8a7f24f.dl.dropboxusercontent.com (uc9d82a11f40b38dff38b8a7f24f.dl.dropboxusercontent.com)... 162.125.5.15, 2620:100:601d:15::a27d:50f\n",
            "Connecting to uc9d82a11f40b38dff38b8a7f24f.dl.dropboxusercontent.com (uc9d82a11f40b38dff38b8a7f24f.dl.dropboxusercontent.com)|162.125.5.15|:443... connected.\n",
            "HTTP request sent, awaiting response... 200 OK\n",
            "Length: 21482809 (20M) [text/plain]\n",
            "Saving to: ‘demo_round_traces.csv’\n",
            "\n",
            "demo_round_traces.c 100%[===================>]  20.49M  63.6MB/s    in 0.3s    \n",
            "\n",
            "2024-11-20 12:02:13 (63.6 MB/s) - ‘demo_round_traces.csv’ saved [21482809/21482809]\n",
            "\n"
          ]
        }
      ]
    },
    {
      "cell_type": "markdown",
      "source": [
        "# Contexto del negocio\n",
        "\n"
      ],
      "metadata": {
        "id": "U2orlVzUTr8q"
      }
    },
    {
      "cell_type": "markdown",
      "source": [
        "Se nos entrego un set de datos el cual contiene los resultados de unas partidas competitivas del Counter-Strike donde podemos contemplar el rendimiento de los jugadores en las distintas partidas.\n",
        "\n",
        "Se nos pidio evaluar los datos y poder identificar si existe algo \"interesante\" para generar un modelo que pueda entregar informacion relevante a los sponsor de los equipos competitivos para futuras competencias dentro del juego.\n",
        "\n",
        "---\n",
        "\n",
        "En base al dataset entregado, seria interesante poder evaluar si un jugador sobrevive o no en una ronda especifica **(Survived)**, esto puede permitirle a los distintos sponsors poder evaluar, en base a distintos factores, si un jugador es capaz de desempeñar correctamente el rol en su equipo sin llegar a realizar acciones/jugadas muy arriesgadas que le cuesten la vida.\n",
        "\n",
        "Para poder medir estos factores se tomaron las siguientes caracteristicas:\n",
        "\n",
        "- ScaledTimeAlive: Indica, en una escala logaritmica, el tiempo de vida de un jugador en una ronda especifica.\n",
        "\n",
        "- RoundStartingEquipmentValue: Indica el valor (currency) del equipamiento del jugador al inicio de la ronda.\n",
        "\n",
        "- RoundKills: Indica la cantidad de asesinatos, independientemente del tipo, que tuvo un jugador en una ronda especifica.\n",
        "\n",
        "- AvgKillDistance: Indica, en promedio, la distancia de asesinato de un jugador en una ronda especifica."
      ],
      "metadata": {
        "id": "1PbVEADwA0w_"
      }
    },
    {
      "cell_type": "markdown",
      "source": [
        "# Objetivo\n",
        "\n",
        "Desarrollar modelos de clasificación para predecir la probabilidad de supervivencia de un jugador en una ronda específica de Counter-Strike **(Survived)**, basándose en factores como el tiempo de vida, el valor del equipamiento al inicio de la ronda, la cantidad de asesinatos realizados y la distancia promedio de los asesinatos. Este modelo permitirá proporcionar información clave a los patrocinadores de equipos competitivos, ayudándoles a evaluar el desempeño y la toma de decisiones de los jugadores en situaciones de riesgo."
      ],
      "metadata": {
        "id": "Z_moJT7RT6hG"
      }
    },
    {
      "cell_type": "markdown",
      "source": [
        "# Preparación del entorno"
      ],
      "metadata": {
        "id": "_ieGZiC4VFsc"
      }
    },
    {
      "cell_type": "code",
      "source": [
        "import pickle\n",
        "import pandas as pd\n",
        "import seaborn as sns\n",
        "import matplotlib.pyplot as plt\n",
        "from seaborn import lmplot, boxplot, violinplot, kdeplot\n",
        "from tabulate import tabulate\n",
        "import random\n",
        "import scipy.stats as stats\n",
        "from ipywidgets import interactive\n",
        "from scipy.stats import norm\n",
        "import math\n",
        "import numpy as np\n",
        "import json\n",
        "\n",
        "from sklearn.preprocessing import StandardScaler\n",
        "from sklearn import metrics\n",
        "\n",
        "from sklearn.metrics import confusion_matrix, accuracy_score, f1_score, recall_score, precision_score,  classification_report, roc_auc_score, roc_curve\n",
        "from sklearn.model_selection import train_test_split, cross_val_score, GridSearchCV\n",
        "from sklearn.ensemble import GradientBoostingClassifier\n",
        "from sklearn.decomposition import PCA\n",
        "\n",
        "from sklearn.tree import DecisionTreeClassifier, plot_tree\n",
        "from sklearn.neighbors import KNeighborsClassifier\n",
        "from sklearn.ensemble import RandomForestClassifier\n",
        "from sklearn.svm import SVC\n",
        "from sklearn.base import BaseEstimator"
      ],
      "metadata": {
        "id": "UhFPFyDVyxoR"
      },
      "execution_count": 2,
      "outputs": []
    },
    {
      "cell_type": "code",
      "source": [
        "def get_best_model_by_f1(models, X_test, y_test):\n",
        "    \"\"\"\n",
        "    Calcula el F1-score de cada modelo y retorna el modelo con el mejor puntaje.\n",
        "\n",
        "    Parameters:\n",
        "        models (dict): Diccionario con nombres de modelos como claves y objetos de modelos como valores.\n",
        "        X_test (array-like): Conjunto de datos de prueba (características).\n",
        "        y_test (array-like): Etiquetas reales de prueba.\n",
        "\n",
        "    Returns:\n",
        "        tuple: El nombre del mejor modelo y su F1-score.\n",
        "    \"\"\"\n",
        "    best_model_name = None\n",
        "    best_f1_score = 0\n",
        "    f1_scores = {}\n",
        "\n",
        "    for model_name, model in models.items():\n",
        "        # Predicción usando el modelo actual\n",
        "        y_pred = model.predict(X_test)\n",
        "        # Cálculo del F1-score\n",
        "        score = f1_score(y_test, y_pred, average=\"weighted\")  # Usamos 'weighted' para datos no balanceados\n",
        "        f1_scores[model_name] = score\n",
        "\n",
        "        # Actualizamos si encontramos un modelo con mejor F1-score\n",
        "        if score > best_f1_score:\n",
        "            best_f1_score = score\n",
        "            best_model_name = model_name\n",
        "\n",
        "    print(\"F1 Scores de los modelos:\", f1_scores)\n",
        "    return best_model_name, best_f1_score"
      ],
      "metadata": {
        "id": "UiiTlwsgpxnv"
      },
      "execution_count": 3,
      "outputs": []
    },
    {
      "cell_type": "code",
      "source": [
        "def view_matriz(model : BaseEstimator, X_test : pd.DataFrame, y_test : pd.Series,\n",
        "                clases : np.array, model_title : str):\n",
        "  # Matriz de confusión de forma gráfica\n",
        "  matriz = confusion_matrix(y_test, model.predict(X_test))\n",
        "  plt.figure(figsize=(5,5),facecolor= 'silver')\n",
        "  group_counts = [\"{0:0.0f}\".format(value) for value in matriz.flatten()]\n",
        "  group_percentages = [\"{0:.2%}\".format(value) for value in matriz.flatten()/matriz.sum()]\n",
        "  labels = [f\"{v1}\\n{v2}\" for v1, v2 in zip(group_counts,group_percentages)]\n",
        "  labels = np.asarray(labels).reshape(2,2)\n",
        "  sns.heatmap(matriz, annot=labels, fmt='', cmap='Blues', xticklabels=clases, yticklabels=clases)\n",
        "  plt.title(f\"Matriz de confusión {model_title}\", fontsize=15, fontweight=\"bold\")\n",
        "  plt.xlabel(\"Predicción\", fontsize=10)\n",
        "  plt.ylabel(\"Real\", fontsize=10)\n",
        "  plt.show()"
      ],
      "metadata": {
        "id": "IAcd43X-3tPT"
      },
      "execution_count": 4,
      "outputs": []
    },
    {
      "cell_type": "markdown",
      "source": [
        "# Carga de la data"
      ],
      "metadata": {
        "id": "MafN3VAkVLTC"
      }
    },
    {
      "cell_type": "code",
      "source": [
        "counter_strike = pd.read_csv('demo_round_traces.csv', sep=';')\n",
        "counter_strike.head()"
      ],
      "metadata": {
        "id": "gv_XLmIdpslr",
        "colab": {
          "base_uri": "https://localhost:8080/",
          "height": 273
        },
        "outputId": "6e1699e7-77ba-4299-eb3b-e70bf65e9bf7"
      },
      "execution_count": 5,
      "outputs": [
        {
          "output_type": "execute_result",
          "data": {
            "text/plain": [
              "   Unnamed: 0         Map       Team  InternalTeamId  MatchId  RoundId  \\\n",
              "0         600  de_inferno  Terrorist               1        4        1   \n",
              "1         601  de_inferno  Terrorist               1        4        1   \n",
              "2         602  de_inferno  Terrorist               1        4        1   \n",
              "3         603  de_inferno  Terrorist               1        4        1   \n",
              "4         604  de_inferno  Terrorist               1        4        1   \n",
              "\n",
              "             SteamId  RoundWinner  MatchWinner  Survived  ...  RoundAssists  \\\n",
              "0  76561198036987787        False         True     False  ...             0   \n",
              "1  76561197971812216        False         True     False  ...             0   \n",
              "2  76561197972240652        False         True     False  ...             0   \n",
              "3  76561197975824962        False         True     False  ...             0   \n",
              "4  76561197960331095        False         True      True  ...             0   \n",
              "\n",
              "   RoundHeadshots  RoundFlankKills  RoundStartingEquipmentValue  \\\n",
              "0               0                0                          750   \n",
              "1               0                0                          800   \n",
              "2               0                0                         1000   \n",
              "3               0                0                          850   \n",
              "4               0                0                         1000   \n",
              "\n",
              "   TeamStartingEquipmentValue  MatchKills  MatchFlankKills  MatchAssists  \\\n",
              "0                        4400           0                0             0   \n",
              "1                        4400           0                0             0   \n",
              "2                        4400           0                0             0   \n",
              "3                        4400           0                0             0   \n",
              "4                        4400           0                0             0   \n",
              "\n",
              "   MatchHeadshots  AvgMatchKillDist  \n",
              "0               0     501379.183091  \n",
              "1               0     208807.587297  \n",
              "2               0     381652.027911  \n",
              "3               0     289754.503091  \n",
              "4               0     254527.691176  \n",
              "\n",
              "[5 rows x 37 columns]"
            ],
            "text/html": [
              "\n",
              "  <div id=\"df-ffb22bcd-55c8-4584-b55b-00bcd54c0096\" class=\"colab-df-container\">\n",
              "    <div>\n",
              "<style scoped>\n",
              "    .dataframe tbody tr th:only-of-type {\n",
              "        vertical-align: middle;\n",
              "    }\n",
              "\n",
              "    .dataframe tbody tr th {\n",
              "        vertical-align: top;\n",
              "    }\n",
              "\n",
              "    .dataframe thead th {\n",
              "        text-align: right;\n",
              "    }\n",
              "</style>\n",
              "<table border=\"1\" class=\"dataframe\">\n",
              "  <thead>\n",
              "    <tr style=\"text-align: right;\">\n",
              "      <th></th>\n",
              "      <th>Unnamed: 0</th>\n",
              "      <th>Map</th>\n",
              "      <th>Team</th>\n",
              "      <th>InternalTeamId</th>\n",
              "      <th>MatchId</th>\n",
              "      <th>RoundId</th>\n",
              "      <th>SteamId</th>\n",
              "      <th>RoundWinner</th>\n",
              "      <th>MatchWinner</th>\n",
              "      <th>Survived</th>\n",
              "      <th>...</th>\n",
              "      <th>RoundAssists</th>\n",
              "      <th>RoundHeadshots</th>\n",
              "      <th>RoundFlankKills</th>\n",
              "      <th>RoundStartingEquipmentValue</th>\n",
              "      <th>TeamStartingEquipmentValue</th>\n",
              "      <th>MatchKills</th>\n",
              "      <th>MatchFlankKills</th>\n",
              "      <th>MatchAssists</th>\n",
              "      <th>MatchHeadshots</th>\n",
              "      <th>AvgMatchKillDist</th>\n",
              "    </tr>\n",
              "  </thead>\n",
              "  <tbody>\n",
              "    <tr>\n",
              "      <th>0</th>\n",
              "      <td>600</td>\n",
              "      <td>de_inferno</td>\n",
              "      <td>Terrorist</td>\n",
              "      <td>1</td>\n",
              "      <td>4</td>\n",
              "      <td>1</td>\n",
              "      <td>76561198036987787</td>\n",
              "      <td>False</td>\n",
              "      <td>True</td>\n",
              "      <td>False</td>\n",
              "      <td>...</td>\n",
              "      <td>0</td>\n",
              "      <td>0</td>\n",
              "      <td>0</td>\n",
              "      <td>750</td>\n",
              "      <td>4400</td>\n",
              "      <td>0</td>\n",
              "      <td>0</td>\n",
              "      <td>0</td>\n",
              "      <td>0</td>\n",
              "      <td>501379.183091</td>\n",
              "    </tr>\n",
              "    <tr>\n",
              "      <th>1</th>\n",
              "      <td>601</td>\n",
              "      <td>de_inferno</td>\n",
              "      <td>Terrorist</td>\n",
              "      <td>1</td>\n",
              "      <td>4</td>\n",
              "      <td>1</td>\n",
              "      <td>76561197971812216</td>\n",
              "      <td>False</td>\n",
              "      <td>True</td>\n",
              "      <td>False</td>\n",
              "      <td>...</td>\n",
              "      <td>0</td>\n",
              "      <td>0</td>\n",
              "      <td>0</td>\n",
              "      <td>800</td>\n",
              "      <td>4400</td>\n",
              "      <td>0</td>\n",
              "      <td>0</td>\n",
              "      <td>0</td>\n",
              "      <td>0</td>\n",
              "      <td>208807.587297</td>\n",
              "    </tr>\n",
              "    <tr>\n",
              "      <th>2</th>\n",
              "      <td>602</td>\n",
              "      <td>de_inferno</td>\n",
              "      <td>Terrorist</td>\n",
              "      <td>1</td>\n",
              "      <td>4</td>\n",
              "      <td>1</td>\n",
              "      <td>76561197972240652</td>\n",
              "      <td>False</td>\n",
              "      <td>True</td>\n",
              "      <td>False</td>\n",
              "      <td>...</td>\n",
              "      <td>0</td>\n",
              "      <td>0</td>\n",
              "      <td>0</td>\n",
              "      <td>1000</td>\n",
              "      <td>4400</td>\n",
              "      <td>0</td>\n",
              "      <td>0</td>\n",
              "      <td>0</td>\n",
              "      <td>0</td>\n",
              "      <td>381652.027911</td>\n",
              "    </tr>\n",
              "    <tr>\n",
              "      <th>3</th>\n",
              "      <td>603</td>\n",
              "      <td>de_inferno</td>\n",
              "      <td>Terrorist</td>\n",
              "      <td>1</td>\n",
              "      <td>4</td>\n",
              "      <td>1</td>\n",
              "      <td>76561197975824962</td>\n",
              "      <td>False</td>\n",
              "      <td>True</td>\n",
              "      <td>False</td>\n",
              "      <td>...</td>\n",
              "      <td>0</td>\n",
              "      <td>0</td>\n",
              "      <td>0</td>\n",
              "      <td>850</td>\n",
              "      <td>4400</td>\n",
              "      <td>0</td>\n",
              "      <td>0</td>\n",
              "      <td>0</td>\n",
              "      <td>0</td>\n",
              "      <td>289754.503091</td>\n",
              "    </tr>\n",
              "    <tr>\n",
              "      <th>4</th>\n",
              "      <td>604</td>\n",
              "      <td>de_inferno</td>\n",
              "      <td>Terrorist</td>\n",
              "      <td>1</td>\n",
              "      <td>4</td>\n",
              "      <td>1</td>\n",
              "      <td>76561197960331095</td>\n",
              "      <td>False</td>\n",
              "      <td>True</td>\n",
              "      <td>True</td>\n",
              "      <td>...</td>\n",
              "      <td>0</td>\n",
              "      <td>0</td>\n",
              "      <td>0</td>\n",
              "      <td>1000</td>\n",
              "      <td>4400</td>\n",
              "      <td>0</td>\n",
              "      <td>0</td>\n",
              "      <td>0</td>\n",
              "      <td>0</td>\n",
              "      <td>254527.691176</td>\n",
              "    </tr>\n",
              "  </tbody>\n",
              "</table>\n",
              "<p>5 rows × 37 columns</p>\n",
              "</div>\n",
              "    <div class=\"colab-df-buttons\">\n",
              "\n",
              "  <div class=\"colab-df-container\">\n",
              "    <button class=\"colab-df-convert\" onclick=\"convertToInteractive('df-ffb22bcd-55c8-4584-b55b-00bcd54c0096')\"\n",
              "            title=\"Convert this dataframe to an interactive table.\"\n",
              "            style=\"display:none;\">\n",
              "\n",
              "  <svg xmlns=\"http://www.w3.org/2000/svg\" height=\"24px\" viewBox=\"0 -960 960 960\">\n",
              "    <path d=\"M120-120v-720h720v720H120Zm60-500h600v-160H180v160Zm220 220h160v-160H400v160Zm0 220h160v-160H400v160ZM180-400h160v-160H180v160Zm440 0h160v-160H620v160ZM180-180h160v-160H180v160Zm440 0h160v-160H620v160Z\"/>\n",
              "  </svg>\n",
              "    </button>\n",
              "\n",
              "  <style>\n",
              "    .colab-df-container {\n",
              "      display:flex;\n",
              "      gap: 12px;\n",
              "    }\n",
              "\n",
              "    .colab-df-convert {\n",
              "      background-color: #E8F0FE;\n",
              "      border: none;\n",
              "      border-radius: 50%;\n",
              "      cursor: pointer;\n",
              "      display: none;\n",
              "      fill: #1967D2;\n",
              "      height: 32px;\n",
              "      padding: 0 0 0 0;\n",
              "      width: 32px;\n",
              "    }\n",
              "\n",
              "    .colab-df-convert:hover {\n",
              "      background-color: #E2EBFA;\n",
              "      box-shadow: 0px 1px 2px rgba(60, 64, 67, 0.3), 0px 1px 3px 1px rgba(60, 64, 67, 0.15);\n",
              "      fill: #174EA6;\n",
              "    }\n",
              "\n",
              "    .colab-df-buttons div {\n",
              "      margin-bottom: 4px;\n",
              "    }\n",
              "\n",
              "    [theme=dark] .colab-df-convert {\n",
              "      background-color: #3B4455;\n",
              "      fill: #D2E3FC;\n",
              "    }\n",
              "\n",
              "    [theme=dark] .colab-df-convert:hover {\n",
              "      background-color: #434B5C;\n",
              "      box-shadow: 0px 1px 3px 1px rgba(0, 0, 0, 0.15);\n",
              "      filter: drop-shadow(0px 1px 2px rgba(0, 0, 0, 0.3));\n",
              "      fill: #FFFFFF;\n",
              "    }\n",
              "  </style>\n",
              "\n",
              "    <script>\n",
              "      const buttonEl =\n",
              "        document.querySelector('#df-ffb22bcd-55c8-4584-b55b-00bcd54c0096 button.colab-df-convert');\n",
              "      buttonEl.style.display =\n",
              "        google.colab.kernel.accessAllowed ? 'block' : 'none';\n",
              "\n",
              "      async function convertToInteractive(key) {\n",
              "        const element = document.querySelector('#df-ffb22bcd-55c8-4584-b55b-00bcd54c0096');\n",
              "        const dataTable =\n",
              "          await google.colab.kernel.invokeFunction('convertToInteractive',\n",
              "                                                    [key], {});\n",
              "        if (!dataTable) return;\n",
              "\n",
              "        const docLinkHtml = 'Like what you see? Visit the ' +\n",
              "          '<a target=\"_blank\" href=https://colab.research.google.com/notebooks/data_table.ipynb>data table notebook</a>'\n",
              "          + ' to learn more about interactive tables.';\n",
              "        element.innerHTML = '';\n",
              "        dataTable['output_type'] = 'display_data';\n",
              "        await google.colab.output.renderOutput(dataTable, element);\n",
              "        const docLink = document.createElement('div');\n",
              "        docLink.innerHTML = docLinkHtml;\n",
              "        element.appendChild(docLink);\n",
              "      }\n",
              "    </script>\n",
              "  </div>\n",
              "\n",
              "\n",
              "<div id=\"df-f7d8ca47-ee1d-4ffd-b66b-e6f93b2d2cf2\">\n",
              "  <button class=\"colab-df-quickchart\" onclick=\"quickchart('df-f7d8ca47-ee1d-4ffd-b66b-e6f93b2d2cf2')\"\n",
              "            title=\"Suggest charts\"\n",
              "            style=\"display:none;\">\n",
              "\n",
              "<svg xmlns=\"http://www.w3.org/2000/svg\" height=\"24px\"viewBox=\"0 0 24 24\"\n",
              "     width=\"24px\">\n",
              "    <g>\n",
              "        <path d=\"M19 3H5c-1.1 0-2 .9-2 2v14c0 1.1.9 2 2 2h14c1.1 0 2-.9 2-2V5c0-1.1-.9-2-2-2zM9 17H7v-7h2v7zm4 0h-2V7h2v10zm4 0h-2v-4h2v4z\"/>\n",
              "    </g>\n",
              "</svg>\n",
              "  </button>\n",
              "\n",
              "<style>\n",
              "  .colab-df-quickchart {\n",
              "      --bg-color: #E8F0FE;\n",
              "      --fill-color: #1967D2;\n",
              "      --hover-bg-color: #E2EBFA;\n",
              "      --hover-fill-color: #174EA6;\n",
              "      --disabled-fill-color: #AAA;\n",
              "      --disabled-bg-color: #DDD;\n",
              "  }\n",
              "\n",
              "  [theme=dark] .colab-df-quickchart {\n",
              "      --bg-color: #3B4455;\n",
              "      --fill-color: #D2E3FC;\n",
              "      --hover-bg-color: #434B5C;\n",
              "      --hover-fill-color: #FFFFFF;\n",
              "      --disabled-bg-color: #3B4455;\n",
              "      --disabled-fill-color: #666;\n",
              "  }\n",
              "\n",
              "  .colab-df-quickchart {\n",
              "    background-color: var(--bg-color);\n",
              "    border: none;\n",
              "    border-radius: 50%;\n",
              "    cursor: pointer;\n",
              "    display: none;\n",
              "    fill: var(--fill-color);\n",
              "    height: 32px;\n",
              "    padding: 0;\n",
              "    width: 32px;\n",
              "  }\n",
              "\n",
              "  .colab-df-quickchart:hover {\n",
              "    background-color: var(--hover-bg-color);\n",
              "    box-shadow: 0 1px 2px rgba(60, 64, 67, 0.3), 0 1px 3px 1px rgba(60, 64, 67, 0.15);\n",
              "    fill: var(--button-hover-fill-color);\n",
              "  }\n",
              "\n",
              "  .colab-df-quickchart-complete:disabled,\n",
              "  .colab-df-quickchart-complete:disabled:hover {\n",
              "    background-color: var(--disabled-bg-color);\n",
              "    fill: var(--disabled-fill-color);\n",
              "    box-shadow: none;\n",
              "  }\n",
              "\n",
              "  .colab-df-spinner {\n",
              "    border: 2px solid var(--fill-color);\n",
              "    border-color: transparent;\n",
              "    border-bottom-color: var(--fill-color);\n",
              "    animation:\n",
              "      spin 1s steps(1) infinite;\n",
              "  }\n",
              "\n",
              "  @keyframes spin {\n",
              "    0% {\n",
              "      border-color: transparent;\n",
              "      border-bottom-color: var(--fill-color);\n",
              "      border-left-color: var(--fill-color);\n",
              "    }\n",
              "    20% {\n",
              "      border-color: transparent;\n",
              "      border-left-color: var(--fill-color);\n",
              "      border-top-color: var(--fill-color);\n",
              "    }\n",
              "    30% {\n",
              "      border-color: transparent;\n",
              "      border-left-color: var(--fill-color);\n",
              "      border-top-color: var(--fill-color);\n",
              "      border-right-color: var(--fill-color);\n",
              "    }\n",
              "    40% {\n",
              "      border-color: transparent;\n",
              "      border-right-color: var(--fill-color);\n",
              "      border-top-color: var(--fill-color);\n",
              "    }\n",
              "    60% {\n",
              "      border-color: transparent;\n",
              "      border-right-color: var(--fill-color);\n",
              "    }\n",
              "    80% {\n",
              "      border-color: transparent;\n",
              "      border-right-color: var(--fill-color);\n",
              "      border-bottom-color: var(--fill-color);\n",
              "    }\n",
              "    90% {\n",
              "      border-color: transparent;\n",
              "      border-bottom-color: var(--fill-color);\n",
              "    }\n",
              "  }\n",
              "</style>\n",
              "\n",
              "  <script>\n",
              "    async function quickchart(key) {\n",
              "      const quickchartButtonEl =\n",
              "        document.querySelector('#' + key + ' button');\n",
              "      quickchartButtonEl.disabled = true;  // To prevent multiple clicks.\n",
              "      quickchartButtonEl.classList.add('colab-df-spinner');\n",
              "      try {\n",
              "        const charts = await google.colab.kernel.invokeFunction(\n",
              "            'suggestCharts', [key], {});\n",
              "      } catch (error) {\n",
              "        console.error('Error during call to suggestCharts:', error);\n",
              "      }\n",
              "      quickchartButtonEl.classList.remove('colab-df-spinner');\n",
              "      quickchartButtonEl.classList.add('colab-df-quickchart-complete');\n",
              "    }\n",
              "    (() => {\n",
              "      let quickchartButtonEl =\n",
              "        document.querySelector('#df-f7d8ca47-ee1d-4ffd-b66b-e6f93b2d2cf2 button');\n",
              "      quickchartButtonEl.style.display =\n",
              "        google.colab.kernel.accessAllowed ? 'block' : 'none';\n",
              "    })();\n",
              "  </script>\n",
              "</div>\n",
              "\n",
              "    </div>\n",
              "  </div>\n"
            ],
            "application/vnd.google.colaboratory.intrinsic+json": {
              "type": "dataframe",
              "variable_name": "counter_strike"
            }
          },
          "metadata": {},
          "execution_count": 5
        }
      ]
    },
    {
      "cell_type": "code",
      "source": [
        "counter_strike.shape"
      ],
      "metadata": {
        "colab": {
          "base_uri": "https://localhost:8080/"
        },
        "id": "fkj6WQ3VFHuw",
        "outputId": "f5bfa4f6-9546-4fe4-de8b-4278f2b065d3"
      },
      "execution_count": 6,
      "outputs": [
        {
          "output_type": "execute_result",
          "data": {
            "text/plain": [
              "(79157, 37)"
            ]
          },
          "metadata": {},
          "execution_count": 6
        }
      ]
    },
    {
      "cell_type": "code",
      "source": [
        "counter_strike.info()"
      ],
      "metadata": {
        "colab": {
          "base_uri": "https://localhost:8080/"
        },
        "id": "S8pXdD2RNxrr",
        "outputId": "07b7c8fb-9dff-49d3-ccb2-a96787c8018b"
      },
      "execution_count": 7,
      "outputs": [
        {
          "output_type": "stream",
          "name": "stdout",
          "text": [
            "<class 'pandas.core.frame.DataFrame'>\n",
            "RangeIndex: 79157 entries, 0 to 79156\n",
            "Data columns (total 37 columns):\n",
            " #   Column                       Non-Null Count  Dtype  \n",
            "---  ------                       --------------  -----  \n",
            " 0   Unnamed: 0                   79157 non-null  int64  \n",
            " 1   Map                          79157 non-null  object \n",
            " 2   Team                         79157 non-null  object \n",
            " 3   InternalTeamId               79157 non-null  int64  \n",
            " 4   MatchId                      79157 non-null  int64  \n",
            " 5   RoundId                      79157 non-null  int64  \n",
            " 6   SteamId                      79157 non-null  int64  \n",
            " 7   RoundWinner                  79157 non-null  bool   \n",
            " 8   MatchWinner                  79157 non-null  bool   \n",
            " 9   Survived                     79157 non-null  bool   \n",
            " 10  AbnormalMatch                79157 non-null  bool   \n",
            " 11  TimeAlive                    79157 non-null  float64\n",
            " 12  ScaledTimeAlive              79157 non-null  float64\n",
            " 13  AvgCentroidDistance          79157 non-null  float64\n",
            " 14  TravelledDistance            79157 non-null  float64\n",
            " 15  AvgRoundVelocity             79157 non-null  float64\n",
            " 16  AvgKillDistance              79157 non-null  float64\n",
            " 17  AvgSiteDistance              79157 non-null  float64\n",
            " 18  RLethalGrenadesThrown        79157 non-null  int64  \n",
            " 19  RNonLethalGrenadesThrown     79157 non-null  int64  \n",
            " 20  PrimaryAssaultRifle          79157 non-null  float64\n",
            " 21  PrimarySniperRifle           79157 non-null  float64\n",
            " 22  PrimaryHeavy                 79157 non-null  float64\n",
            " 23  PrimarySMG                   79157 non-null  float64\n",
            " 24  PrimaryPistol                79157 non-null  int64  \n",
            " 25  FirstKillTime                79157 non-null  float64\n",
            " 26  RoundKills                   79157 non-null  int64  \n",
            " 27  RoundAssists                 79157 non-null  int64  \n",
            " 28  RoundHeadshots               79157 non-null  int64  \n",
            " 29  RoundFlankKills              79157 non-null  int64  \n",
            " 30  RoundStartingEquipmentValue  79157 non-null  int64  \n",
            " 31  TeamStartingEquipmentValue   79157 non-null  int64  \n",
            " 32  MatchKills                   79157 non-null  int64  \n",
            " 33  MatchFlankKills              79157 non-null  int64  \n",
            " 34  MatchAssists                 79157 non-null  int64  \n",
            " 35  MatchHeadshots               79157 non-null  int64  \n",
            " 36  AvgMatchKillDist             79157 non-null  float64\n",
            "dtypes: bool(4), float64(13), int64(18), object(2)\n",
            "memory usage: 20.2+ MB\n"
          ]
        }
      ]
    },
    {
      "cell_type": "markdown",
      "source": [
        "# Fase 2 - Comprensión de los datos"
      ],
      "metadata": {
        "id": "p2GfY8plzGvB"
      }
    },
    {
      "cell_type": "code",
      "source": [
        "# Transformamos la  variable booleana Survived a numerica (0 - 1)\n",
        "counter_strike[\"Survived\"] = counter_strike[\"Survived\"].astype(int)"
      ],
      "metadata": {
        "id": "nRO_24B8zqi0"
      },
      "execution_count": 8,
      "outputs": []
    },
    {
      "cell_type": "markdown",
      "source": [
        "Transformamos survived a un valor numerico para poder incluirlos al metodo del dataset que indica las variables con mayor correlacion hacia esa caracteristica especifica."
      ],
      "metadata": {
        "id": "MYfGhjD4DvCP"
      }
    },
    {
      "cell_type": "code",
      "source": [
        "matriz_corr = counter_strike[counter_strike.describe().columns].corr()\n",
        "matriz_corr[\"Survived\"].sort_values(ascending=False)"
      ],
      "metadata": {
        "colab": {
          "base_uri": "https://localhost:8080/",
          "height": 1000
        },
        "id": "o8cZp0BODvWv",
        "outputId": "ead9d865-01d4-4841-9f04-d8a47a7e220a"
      },
      "execution_count": 9,
      "outputs": [
        {
          "output_type": "execute_result",
          "data": {
            "text/plain": [
              "Survived                       1.000000\n",
              "ScaledTimeAlive                0.658926\n",
              "RoundKills                     0.331619\n",
              "TimeAlive                      0.224926\n",
              "RoundHeadshots                 0.205279\n",
              "AvgKillDistance                0.190699\n",
              "TeamStartingEquipmentValue     0.173237\n",
              "RLethalGrenadesThrown          0.171732\n",
              "RoundStartingEquipmentValue    0.170578\n",
              "AvgCentroidDistance            0.140934\n",
              "RoundFlankKills                0.139673\n",
              "RNonLethalGrenadesThrown       0.125064\n",
              "PrimaryAssaultRifle            0.110008\n",
              "FirstKillTime                  0.075699\n",
              "PrimarySniperRifle             0.067100\n",
              "MatchKills                     0.059445\n",
              "TravelledDistance              0.051916\n",
              "MatchHeadshots                 0.047407\n",
              "InternalTeamId                 0.044872\n",
              "MatchFlankKills                0.041533\n",
              "PrimarySMG                     0.026469\n",
              "AvgMatchKillDist               0.022863\n",
              "AvgRoundVelocity               0.012378\n",
              "PrimaryHeavy                   0.002006\n",
              "MatchId                       -0.003239\n",
              "Unnamed: 0                    -0.003245\n",
              "MatchAssists                  -0.008001\n",
              "RoundId                       -0.015361\n",
              "SteamId                       -0.017533\n",
              "RoundAssists                  -0.063264\n",
              "AvgSiteDistance               -0.084985\n",
              "PrimaryPistol                 -0.173705\n",
              "Name: Survived, dtype: float64"
            ],
            "text/html": [
              "<div>\n",
              "<style scoped>\n",
              "    .dataframe tbody tr th:only-of-type {\n",
              "        vertical-align: middle;\n",
              "    }\n",
              "\n",
              "    .dataframe tbody tr th {\n",
              "        vertical-align: top;\n",
              "    }\n",
              "\n",
              "    .dataframe thead th {\n",
              "        text-align: right;\n",
              "    }\n",
              "</style>\n",
              "<table border=\"1\" class=\"dataframe\">\n",
              "  <thead>\n",
              "    <tr style=\"text-align: right;\">\n",
              "      <th></th>\n",
              "      <th>Survived</th>\n",
              "    </tr>\n",
              "  </thead>\n",
              "  <tbody>\n",
              "    <tr>\n",
              "      <th>Survived</th>\n",
              "      <td>1.000000</td>\n",
              "    </tr>\n",
              "    <tr>\n",
              "      <th>ScaledTimeAlive</th>\n",
              "      <td>0.658926</td>\n",
              "    </tr>\n",
              "    <tr>\n",
              "      <th>RoundKills</th>\n",
              "      <td>0.331619</td>\n",
              "    </tr>\n",
              "    <tr>\n",
              "      <th>TimeAlive</th>\n",
              "      <td>0.224926</td>\n",
              "    </tr>\n",
              "    <tr>\n",
              "      <th>RoundHeadshots</th>\n",
              "      <td>0.205279</td>\n",
              "    </tr>\n",
              "    <tr>\n",
              "      <th>AvgKillDistance</th>\n",
              "      <td>0.190699</td>\n",
              "    </tr>\n",
              "    <tr>\n",
              "      <th>TeamStartingEquipmentValue</th>\n",
              "      <td>0.173237</td>\n",
              "    </tr>\n",
              "    <tr>\n",
              "      <th>RLethalGrenadesThrown</th>\n",
              "      <td>0.171732</td>\n",
              "    </tr>\n",
              "    <tr>\n",
              "      <th>RoundStartingEquipmentValue</th>\n",
              "      <td>0.170578</td>\n",
              "    </tr>\n",
              "    <tr>\n",
              "      <th>AvgCentroidDistance</th>\n",
              "      <td>0.140934</td>\n",
              "    </tr>\n",
              "    <tr>\n",
              "      <th>RoundFlankKills</th>\n",
              "      <td>0.139673</td>\n",
              "    </tr>\n",
              "    <tr>\n",
              "      <th>RNonLethalGrenadesThrown</th>\n",
              "      <td>0.125064</td>\n",
              "    </tr>\n",
              "    <tr>\n",
              "      <th>PrimaryAssaultRifle</th>\n",
              "      <td>0.110008</td>\n",
              "    </tr>\n",
              "    <tr>\n",
              "      <th>FirstKillTime</th>\n",
              "      <td>0.075699</td>\n",
              "    </tr>\n",
              "    <tr>\n",
              "      <th>PrimarySniperRifle</th>\n",
              "      <td>0.067100</td>\n",
              "    </tr>\n",
              "    <tr>\n",
              "      <th>MatchKills</th>\n",
              "      <td>0.059445</td>\n",
              "    </tr>\n",
              "    <tr>\n",
              "      <th>TravelledDistance</th>\n",
              "      <td>0.051916</td>\n",
              "    </tr>\n",
              "    <tr>\n",
              "      <th>MatchHeadshots</th>\n",
              "      <td>0.047407</td>\n",
              "    </tr>\n",
              "    <tr>\n",
              "      <th>InternalTeamId</th>\n",
              "      <td>0.044872</td>\n",
              "    </tr>\n",
              "    <tr>\n",
              "      <th>MatchFlankKills</th>\n",
              "      <td>0.041533</td>\n",
              "    </tr>\n",
              "    <tr>\n",
              "      <th>PrimarySMG</th>\n",
              "      <td>0.026469</td>\n",
              "    </tr>\n",
              "    <tr>\n",
              "      <th>AvgMatchKillDist</th>\n",
              "      <td>0.022863</td>\n",
              "    </tr>\n",
              "    <tr>\n",
              "      <th>AvgRoundVelocity</th>\n",
              "      <td>0.012378</td>\n",
              "    </tr>\n",
              "    <tr>\n",
              "      <th>PrimaryHeavy</th>\n",
              "      <td>0.002006</td>\n",
              "    </tr>\n",
              "    <tr>\n",
              "      <th>MatchId</th>\n",
              "      <td>-0.003239</td>\n",
              "    </tr>\n",
              "    <tr>\n",
              "      <th>Unnamed: 0</th>\n",
              "      <td>-0.003245</td>\n",
              "    </tr>\n",
              "    <tr>\n",
              "      <th>MatchAssists</th>\n",
              "      <td>-0.008001</td>\n",
              "    </tr>\n",
              "    <tr>\n",
              "      <th>RoundId</th>\n",
              "      <td>-0.015361</td>\n",
              "    </tr>\n",
              "    <tr>\n",
              "      <th>SteamId</th>\n",
              "      <td>-0.017533</td>\n",
              "    </tr>\n",
              "    <tr>\n",
              "      <th>RoundAssists</th>\n",
              "      <td>-0.063264</td>\n",
              "    </tr>\n",
              "    <tr>\n",
              "      <th>AvgSiteDistance</th>\n",
              "      <td>-0.084985</td>\n",
              "    </tr>\n",
              "    <tr>\n",
              "      <th>PrimaryPistol</th>\n",
              "      <td>-0.173705</td>\n",
              "    </tr>\n",
              "  </tbody>\n",
              "</table>\n",
              "</div><br><label><b>dtype:</b> float64</label>"
            ]
          },
          "metadata": {},
          "execution_count": 9
        }
      ]
    },
    {
      "cell_type": "markdown",
      "source": [
        "En base a la correlacion que nos entrega la anterior tabla y la representatividad de cada una de las caracteristicas decidimos utilizar las siguientes caracteristicas para predecir survived:\n",
        "\n",
        "- ScaledTimeAlive: Indica, en una escala logaritmica, el tiempo de vida de un jugador en una ronda especifica.\n",
        "\n",
        "- RoundStartingEquipmentValue: Indica el valor (currency) del equipamiento del jugador al inicio de la ronda.\n",
        "\n",
        "- RoundKills: Indica la cantidad de asesinatos, independientemente del tipo, que tuvo un jugador en una ronda especifica.\n",
        "\n",
        "- AvgKillDistance: Indica, en promedio, la distancia de asesinato de un jugador en una ronda especifica."
      ],
      "metadata": {
        "id": "nVGbpsrsD5lu"
      }
    },
    {
      "cell_type": "code",
      "source": [
        "caracteristicas = [\"Survived\", \"ScaledTimeAlive\", \"RoundStartingEquipmentValue\", \"RoundKills\", \"AvgKillDistance\"]\n",
        "data = counter_strike[caracteristicas]"
      ],
      "metadata": {
        "id": "uu6jKuujF2RA"
      },
      "execution_count": 10,
      "outputs": []
    },
    {
      "cell_type": "code",
      "source": [
        "survived_discreta = data[\"Survived\"].astype(\"category\")\n",
        "survived_discreta.describe()"
      ],
      "metadata": {
        "colab": {
          "base_uri": "https://localhost:8080/",
          "height": 209
        },
        "id": "NoyqTHLmEixf",
        "outputId": "9bda8918-4618-4af6-d29a-aa7cc3e5bdfa"
      },
      "execution_count": 11,
      "outputs": [
        {
          "output_type": "execute_result",
          "data": {
            "text/plain": [
              "count     79157\n",
              "unique        2\n",
              "top           0\n",
              "freq      47214\n",
              "Name: Survived, dtype: int64"
            ],
            "text/html": [
              "<div>\n",
              "<style scoped>\n",
              "    .dataframe tbody tr th:only-of-type {\n",
              "        vertical-align: middle;\n",
              "    }\n",
              "\n",
              "    .dataframe tbody tr th {\n",
              "        vertical-align: top;\n",
              "    }\n",
              "\n",
              "    .dataframe thead th {\n",
              "        text-align: right;\n",
              "    }\n",
              "</style>\n",
              "<table border=\"1\" class=\"dataframe\">\n",
              "  <thead>\n",
              "    <tr style=\"text-align: right;\">\n",
              "      <th></th>\n",
              "      <th>Survived</th>\n",
              "    </tr>\n",
              "  </thead>\n",
              "  <tbody>\n",
              "    <tr>\n",
              "      <th>count</th>\n",
              "      <td>79157</td>\n",
              "    </tr>\n",
              "    <tr>\n",
              "      <th>unique</th>\n",
              "      <td>2</td>\n",
              "    </tr>\n",
              "    <tr>\n",
              "      <th>top</th>\n",
              "      <td>0</td>\n",
              "    </tr>\n",
              "    <tr>\n",
              "      <th>freq</th>\n",
              "      <td>47214</td>\n",
              "    </tr>\n",
              "  </tbody>\n",
              "</table>\n",
              "</div><br><label><b>dtype:</b> int64</label>"
            ]
          },
          "metadata": {},
          "execution_count": 11
        }
      ]
    },
    {
      "cell_type": "markdown",
      "source": [
        "En base al resumen estadistico que nos genera pandas tomando en cuenta que es una variable discreta podemos identificar que:\n",
        "\n",
        "- No existen valores nulos ya que survived posee 79.157 valores dentro de un dataset que tiene la misma cantidad de filas\n",
        "\n",
        "- Es una variable binaria ya que se indica que solo posee unicamente 2 valores **(0 y 1)**\n",
        "\n",
        "- El valor mas frecuente es el valor **(0)** que indica que el jugador no sobrevivio en dicha ronda, teniendo en cuenta que dicho valor esta presente en 47.214 de los 79.157 registros.\n",
        "\n"
      ],
      "metadata": {
        "id": "06QZP1AiE5ka"
      }
    },
    {
      "cell_type": "code",
      "source": [
        "outliers = {}\n",
        "for carac in caracteristicas:\n",
        "  data[\"z-score\"] = (data[carac] - data[carac].mean()) / data[carac].std()\n",
        "  cantidad_outliers = (np.abs(data[\"z-score\"]) > 3).sum()\n",
        "  outliers[carac] = cantidad_outliers\n",
        "\n",
        "print(\"****************************************************************************\\n\")\n",
        "print(\"Cantidad de outliers en cada una de las caracteristicas: \\n {}\".format(outliers))"
      ],
      "metadata": {
        "colab": {
          "base_uri": "https://localhost:8080/"
        },
        "id": "r1Hkmc-kFunI",
        "outputId": "c00728fc-32a4-4482-f3af-507522f3f07f"
      },
      "execution_count": 12,
      "outputs": [
        {
          "output_type": "stream",
          "name": "stdout",
          "text": [
            "****************************************************************************\n",
            "\n",
            "Cantidad de outliers en cada una de las caracteristicas: \n",
            " {'Survived': 0, 'ScaledTimeAlive': 246, 'RoundStartingEquipmentValue': 0, 'RoundKills': 591, 'AvgKillDistance': 1459}\n"
          ]
        },
        {
          "output_type": "stream",
          "name": "stderr",
          "text": [
            "<ipython-input-12-ef86c223e82d>:3: SettingWithCopyWarning: \n",
            "A value is trying to be set on a copy of a slice from a DataFrame.\n",
            "Try using .loc[row_indexer,col_indexer] = value instead\n",
            "\n",
            "See the caveats in the documentation: https://pandas.pydata.org/pandas-docs/stable/user_guide/indexing.html#returning-a-view-versus-a-copy\n",
            "  data[\"z-score\"] = (data[carac] - data[carac].mean()) / data[carac].std()\n"
          ]
        }
      ]
    },
    {
      "cell_type": "markdown",
      "source": [
        "Con esto podemos identificar que algunas de nuestras caracteristicas tienen presencia de valores atipicos, aun asi no son valores tan elevados ya que la mas alta es el AvgKillDistance que posee 1.459 pero representa el 1,84% de los datos aun asi es recomendable aplicar algun tipo de tratamiento a estos valores para evitar que el rendimiento de nuestro modelo sea afectado."
      ],
      "metadata": {
        "id": "2cL1v-R6HNcx"
      }
    },
    {
      "cell_type": "code",
      "source": [
        "labels = ['Sobrevivieron', 'NO Sobrevivieron']\n",
        "colors = ['#66b3ff', '#ff9999']\n",
        "\n",
        "plt.figure(figsize=(8, 6))\n",
        "plt.pie(data[\"Survived\"].value_counts(), labels=labels, colors=colors, autopct='%1.1f%%', startangle=90, wedgeprops={'edgecolor': 'black'})\n",
        "plt.title('Proporcion de jugadores que sobreviven o no una ronda especifica')\n",
        "plt.show()"
      ],
      "metadata": {
        "colab": {
          "base_uri": "https://localhost:8080/",
          "height": 521
        },
        "id": "qgCbaugLGyE-",
        "outputId": "2cd53508-9865-4768-95f8-9301744658b9"
      },
      "execution_count": 13,
      "outputs": [
        {
          "output_type": "display_data",
          "data": {
            "text/plain": [
              "<Figure size 800x600 with 1 Axes>"
            ],
            "image/png": "[encoded data removed]"
          },
          "metadata": {}
        }
      ]
    },
    {
      "cell_type": "markdown",
      "source": [
        "Como podemos observar en el grafico, existe un sesgo en los datos ya que hay mas presencia de observaciones de jugadores que sobreviven la ronda, siendo que el 59.6% de los jugadores sobreviven la ronda, esto puede afectar nuestro modelo debido al desbalance de clases."
      ],
      "metadata": {
        "id": "Z159-_tMHqVc"
      }
    },
    {
      "cell_type": "markdown",
      "source": [
        "# Fase 3 - Preparación de los datos"
      ],
      "metadata": {
        "id": "4m02vmmrzZq0"
      }
    },
    {
      "cell_type": "code",
      "source": [
        "caracteristicas_ind = [\"ScaledTimeAlive\", \"RoundStartingEquipmentValue\", \"RoundKills\", \"AvgKillDistance\"]\n",
        "scaler = StandardScaler()\n",
        "\n",
        "data[caracteristicas_ind] = scaler.fit_transform(data[caracteristicas_ind])\n",
        "\n",
        "print(data.head())"
      ],
      "metadata": {
        "colab": {
          "base_uri": "https://localhost:8080/"
        },
        "id": "mBKypuyTIMo0",
        "outputId": "46be7362-9bd5-470d-ed72-a6bc6e93b429"
      },
      "execution_count": 14,
      "outputs": [
        {
          "output_type": "stream",
          "name": "stdout",
          "text": [
            "   Survived  ScaledTimeAlive  RoundStartingEquipmentValue  RoundKills  \\\n",
            "0         0         0.629611                    -1.434258   -0.761346   \n",
            "1         0        -0.051939                    -1.410576   -0.761346   \n",
            "2         0        -0.599413                    -1.315846   -0.761346   \n",
            "3         0         0.322355                    -1.386893   -0.761346   \n",
            "4         1         0.808378                    -1.315846   -0.761346   \n",
            "\n",
            "   AvgKillDistance   z-score  \n",
            "0        -0.477179 -0.477176  \n",
            "1        -0.477179 -0.477176  \n",
            "2        -0.477179 -0.477176  \n",
            "3        -0.477179 -0.477176  \n",
            "4        -0.477179 -0.477176  \n"
          ]
        },
        {
          "output_type": "stream",
          "name": "stderr",
          "text": [
            "<ipython-input-14-b8653498f833>:4: SettingWithCopyWarning: \n",
            "A value is trying to be set on a copy of a slice from a DataFrame.\n",
            "Try using .loc[row_indexer,col_indexer] = value instead\n",
            "\n",
            "See the caveats in the documentation: https://pandas.pydata.org/pandas-docs/stable/user_guide/indexing.html#returning-a-view-versus-a-copy\n",
            "  data[caracteristicas_ind] = scaler.fit_transform(data[caracteristicas_ind])\n"
          ]
        }
      ]
    },
    {
      "cell_type": "markdown",
      "source": [
        "Realizamos un escalado de los datos para que todas las variables mantengan un mismo rango de digitos, esto permitira que no hayan valores que se escapen en escala a los demas y ayudara a mejorar el rendimiento de nuestro modelo"
      ],
      "metadata": {
        "id": "vMUCBCyWKddQ"
      }
    },
    {
      "cell_type": "code",
      "source": [
        "pca = PCA(n_components=3)\n",
        "# Buscar los componentes principales\n",
        "pca.fit(data[caracteristicas_ind])\n",
        "X_pca = pca.transform(data[caracteristicas_ind])\n",
        "# Imprime la forma del array\n",
        "print(\"shape of X_pca\", X_pca.shape)"
      ],
      "metadata": {
        "colab": {
          "base_uri": "https://localhost:8080/"
        },
        "id": "lcu4xXXBKlru",
        "outputId": "0c82e7db-6eac-4875-ff8e-6bdf10103fd0"
      },
      "execution_count": 15,
      "outputs": [
        {
          "output_type": "stream",
          "name": "stdout",
          "text": [
            "shape of X_pca (79157, 3)\n"
          ]
        }
      ]
    },
    {
      "cell_type": "code",
      "source": [
        "expl = pca.explained_variance_ratio_\n",
        "print(expl)\n",
        "print('suma:',sum(expl[0:2]))"
      ],
      "metadata": {
        "colab": {
          "base_uri": "https://localhost:8080/"
        },
        "id": "tCOL24YbKuVa",
        "outputId": "f7d090c5-f921-40ad-9ce9-d8a267908422"
      },
      "execution_count": 16,
      "outputs": [
        {
          "output_type": "stream",
          "name": "stdout",
          "text": [
            "[0.42753638 0.23385525 0.20511495]\n",
            "suma: 0.6613916309216528\n"
          ]
        }
      ]
    },
    {
      "cell_type": "markdown",
      "source": [
        "La variabilidad de nuestros datos calculada luego de aplciar PCA es del 66%, un valor bastante bajo pero esto se debe a que no poseemos caracteristicas que dominen en varianza o a su vez el hecho de contener pocas caracteristicas es lo que causa que nuestra variabilidad este bastante baja."
      ],
      "metadata": {
        "id": "Xe85CUK8LIH1"
      }
    },
    {
      "cell_type": "markdown",
      "source": [
        "# Fase 4 - Modelamiento"
      ],
      "metadata": {
        "id": "kTRcnq2wzKZN"
      }
    },
    {
      "cell_type": "markdown",
      "source": [
        "## Variable objetivo\n",
        "\n",
        "Objetivo: Survived: Indica si el jugador sobrevive o no una ronda especifica."
      ],
      "metadata": {
        "id": "brGe6MbPVp0a"
      }
    },
    {
      "cell_type": "code",
      "source": [
        "target_matriz = [\"NO sobrevivio\", \"Sobrevivio\"]\n",
        "y = data[\"Survived\"]\n",
        "X = X_pca\n",
        "\n",
        "\n",
        "X_train, X_test, y_train, y_test = train_test_split(X, y, test_size=0.3, random_state=29, stratify = y)"
      ],
      "metadata": {
        "id": "7QKE2Y9Hf2-C"
      },
      "execution_count": 17,
      "outputs": []
    },
    {
      "cell_type": "markdown",
      "source": [
        "## Modelo 1: KNN"
      ],
      "metadata": {
        "id": "_2cC8AotfkaR"
      }
    },
    {
      "cell_type": "code",
      "source": [
        "k_range = range(1, 20)\n",
        "scores = []\n",
        "for k in k_range:\n",
        "    knn = KNeighborsClassifier(n_neighbors = k, algorithm='ball_tree')\n",
        "    knn.fit(X_train, y_train)\n",
        "    scores.append(knn.score(X_test, y_test))\n",
        "\n",
        "# Graficar los scores en función del valor de k\n",
        "plt.figure(figsize=(10, 6))\n",
        "plt.plot(k_range, scores, marker='o', linestyle='-', color='b', markersize=8)\n",
        "\n",
        "# Agregar etiquetas y título\n",
        "plt.xlabel('Número de vecinos (k)', fontsize=14)\n",
        "plt.ylabel('Precisión en el conjunto de prueba', fontsize=14)\n",
        "plt.title('Precisión del KNN en función de k', fontsize=16)\n",
        "\n",
        "# Mostrar la mejor precisión en el gráfico\n",
        "best_k = k_range[scores.index(max(scores))]\n",
        "best_score = max(scores)\n",
        "plt.axvline(x=best_k, color='r', linestyle='--', label=f'Mejor k={best_k} (score={best_score:.2f})')\n",
        "\n",
        "# Agregar leyenda\n",
        "plt.legend(loc='best')\n",
        "plt.show()"
      ],
      "metadata": {
        "colab": {
          "base_uri": "https://localhost:8080/",
          "height": 571
        },
        "id": "MSOp0hStfmww",
        "outputId": "d94ff6e9-3561-4734-8074-cd4c4d891b6e"
      },
      "execution_count": 18,
      "outputs": [
        {
          "output_type": "display_data",
          "data": {
            "text/plain": [
              "<Figure size 1000x600 with 1 Axes>"
            ],
            "image/png": "[encoded data removed]"
          },
          "metadata": {}
        }
      ]
    },
    {
      "cell_type": "markdown",
      "source": [
        "Este grafico nos indica que el mejor valor de K para el modelo de clasificacion de KNeighbors es de 1\n",
        "\n",
        "Esto indica que el modelo realizara las predicciones buscando al vecino mas cercano **(1)**"
      ],
      "metadata": {
        "id": "6DIky1j4vEBH"
      }
    },
    {
      "cell_type": "code",
      "source": [
        "model_knn = KNeighborsClassifier(1)\n",
        "model_knn.fit(X_train, y_train)\n",
        "print('Accuracy of K-NN classifier en el conjunto de entrenamiento: {:.2f}'\n",
        "     .format(model_knn.score(X_train, y_train)))\n",
        "print('Accuracy of K-NN classifier en el conjunto de test: {:.2f}'\n",
        "     .format(model_knn.score(X_test, y_test)))\n",
        "\n",
        "pred_knn = model_knn.predict(X_test)\n",
        "report_knn = classification_report(y_test, pred_knn)\n",
        "print(report_knn)"
      ],
      "metadata": {
        "colab": {
          "base_uri": "https://localhost:8080/"
        },
        "id": "8wd0HxEVgIqB",
        "outputId": "238bb4b6-3e58-4f9e-a575-b9df352cc627"
      },
      "execution_count": 19,
      "outputs": [
        {
          "output_type": "stream",
          "name": "stdout",
          "text": [
            "Accuracy of K-NN classifier en el conjunto de entrenamiento: 1.00\n",
            "Accuracy of K-NN classifier en el conjunto de test: 0.98\n",
            "              precision    recall  f1-score   support\n",
            "\n",
            "           0       0.99      0.97      0.98     14165\n",
            "           1       0.96      0.99      0.98      9583\n",
            "\n",
            "    accuracy                           0.98     23748\n",
            "   macro avg       0.98      0.98      0.98     23748\n",
            "weighted avg       0.98      0.98      0.98     23748\n",
            "\n"
          ]
        }
      ]
    },
    {
      "cell_type": "code",
      "source": [
        "view_matriz(model_knn, X_test, y_test, target_matriz, \"KNeighborsClassifier\")"
      ],
      "metadata": {
        "colab": {
          "base_uri": "https://localhost:8080/",
          "height": 491
        },
        "id": "5zUWBmH74AkV",
        "outputId": "ab9d5570-78de-4614-b15e-4913c81bcae5"
      },
      "execution_count": 20,
      "outputs": [
        {
          "output_type": "display_data",
          "data": {
            "text/plain": [
              "<Figure size 500x500 with 2 Axes>"
            ],
            "image/png": "[encoded data removed]"
          },
          "metadata": {}
        }
      ]
    },
    {
      "cell_type": "markdown",
      "source": [
        "Como podemos observar el modelo en si tiene un margen de error bastante minimo ya que en base a sus valores podemos indicar que:\n",
        "\n",
        "- Clase negativa: El modelo indico que 13800 jugadores no sobrevivieron y en realidad no sobrevivieron, teniendo un margen de error de 1.54% o lo que es igual a que indico que 365 de esos 13800 que indico que murieron en realidad no lo hicieron\n",
        "\n",
        "- Clase positiva: El modelo indico que 9497 jugadores sobrevivieron y en realidad si sobrevivieron, teniendo un margen de error de 0.36% o lo que es igual a que indico que 86 de esos 9497 jugadores que sobrevivieron en realidad no lo hicieron.\n",
        "\n",
        "\n",
        "Este resultado no es confiable debido a que nuestro set de datos tiene un desbalance de clases. Es recomendable que se aplique un tratamiento de balanceo de clases para poder generar una matriz de confusion con valores mas confiables."
      ],
      "metadata": {
        "id": "uWwWD8i55XZY"
      }
    },
    {
      "cell_type": "markdown",
      "source": [
        "## Modelo 2: DecisionTreeClassifier"
      ],
      "metadata": {
        "id": "LqiQT4TRgJZl"
      }
    },
    {
      "cell_type": "code",
      "source": [
        "depths = range(1,20)\n",
        "performances, performances_x, performances_recall, performances_f1, performances_precision = [], [], [], [], []\n",
        "for depth in depths:\n",
        "    # Crea el modelo\n",
        "    current_tree = DecisionTreeClassifier(max_depth=depth, criterion = \"entropy\")\n",
        "    # Calcula la métrica ROC_AUC\n",
        "    roc_auc = cross_val_score(\n",
        "          current_tree,\n",
        "          X,\n",
        "          y,\n",
        "          scoring=\"roc_auc\"\n",
        "      ).mean()\n",
        "    performances.append(roc_auc)\n",
        "    # Calcula el accuracy\n",
        "    accuracy = cross_val_score(\n",
        "          current_tree,\n",
        "          X,\n",
        "          y,\n",
        "          scoring=\"accuracy\"\n",
        "      ).mean()\n",
        "    performances_x.append(accuracy)\n",
        "    # Calcula el recall\n",
        "    recall = cross_val_score(\n",
        "          current_tree,\n",
        "          X,\n",
        "          y,\n",
        "          scoring=\"recall\"\n",
        "      ).mean()\n",
        "    performances_recall.append(recall)\n",
        "    # Calcula el F1-score\n",
        "    f1_score_decission = cross_val_score(\n",
        "          current_tree,\n",
        "          X,\n",
        "          y,\n",
        "          scoring=\"f1\"\n",
        "      ).mean()\n",
        "    performances_f1.append(f1_score_decission)\n",
        "\n",
        "    # Calcula precision\n",
        "    precision_score = cross_val_score(\n",
        "          current_tree,\n",
        "          X,\n",
        "          y,\n",
        "          scoring=\"precision\"\n",
        "      ).mean()\n",
        "    performances_precision.append(precision_score)\n",
        "\n",
        "plt.plot(depths, performances)\n",
        "# Mostrar la mejor precisión en el gráfico\n",
        "best_depth = depths[performances.index(max(performances))]\n",
        "best_score = max(performances)\n",
        "plt.axvline(x=best_depth, color='r', linestyle='--', label=f'Mejor depth={best_depth} (score={best_score:.4f})')\n",
        "\n",
        "plt.xlabel(\"max_depth\", fontsize=14, fontweight=\"bold\")\n",
        "plt.ylabel(\"mean_roc_auc_score\", fontsize=14, fontweight=\"bold\")\n",
        "plt.title(\"Profundidad versus rendimiento\", fontsize=16, fontweight=\"bold\")\n",
        "# Agregar leyenda\n",
        "plt.legend(loc='right')\n",
        "plt.show()"
      ],
      "metadata": {
        "colab": {
          "base_uri": "https://localhost:8080/",
          "height": 480
        },
        "id": "mIf2ECQVgMQI",
        "outputId": "907fb356-e36d-4493-a326-457de5589915"
      },
      "execution_count": 21,
      "outputs": [
        {
          "output_type": "display_data",
          "data": {
            "text/plain": [
              "<Figure size 640x480 with 1 Axes>"
            ],
            "image/png": "[encoded data removed]"
          },
          "metadata": {}
        }
      ]
    },
    {
      "cell_type": "markdown",
      "source": [
        "Este grafico nos indica que el mejor valor para el parametro de max_depth del decisionTreeClassifier es de 12\n",
        "\n",
        "Esto nos indica que la profundidad maxima del arbol a la hora de crearse sera de 12"
      ],
      "metadata": {
        "id": "Mr8Kl60UvSBl"
      }
    },
    {
      "cell_type": "code",
      "source": [
        "tree_model = DecisionTreeClassifier(max_depth=12, criterion = \"gini\")\n",
        "\n",
        "tree_model.fit(X_train, y_train)\n",
        "\n",
        "pred_tree = tree_model.predict(X_test)\n",
        "print(classification_report(y_test, pred_tree))"
      ],
      "metadata": {
        "colab": {
          "base_uri": "https://localhost:8080/"
        },
        "id": "J4ZZMP23gP5q",
        "outputId": "ca23ddba-f670-43ad-a008-2c0e4adf7220"
      },
      "execution_count": 22,
      "outputs": [
        {
          "output_type": "stream",
          "name": "stdout",
          "text": [
            "              precision    recall  f1-score   support\n",
            "\n",
            "           0       0.99      0.95      0.97     14165\n",
            "           1       0.93      0.98      0.95      9583\n",
            "\n",
            "    accuracy                           0.96     23748\n",
            "   macro avg       0.96      0.96      0.96     23748\n",
            "weighted avg       0.96      0.96      0.96     23748\n",
            "\n"
          ]
        }
      ]
    },
    {
      "cell_type": "code",
      "source": [
        "view_matriz(tree_model, X_test, y_test, target_matriz, \"DecisionTreeClasifier\")"
      ],
      "metadata": {
        "colab": {
          "base_uri": "https://localhost:8080/",
          "height": 489
        },
        "id": "8L4oXpxg4l6Z",
        "outputId": "19d05999-9089-4b9c-b5c6-a7a484ebbfc9"
      },
      "execution_count": 23,
      "outputs": [
        {
          "output_type": "display_data",
          "data": {
            "text/plain": [
              "<Figure size 500x500 with 2 Axes>"
            ],
            "image/png": "[encoded data removed]"
          },
          "metadata": {}
        }
      ]
    },
    {
      "cell_type": "markdown",
      "source": [
        "Como podemos observar el modelo en si tiene un margen de error bastante minimo ya que en base a sus valores podemos indicar que:\n",
        "\n",
        "- Clase negativa: El modelo indico que 13427 jugadores no sobrevivieron y en realidad no sobrevivieron, teniendo un margen de error de 1.54% o lo que es igual a que indico que 738 de esos 13427 que indico que murieron en realidad no lo hicieron\n",
        "\n",
        "- Clase positiva: El modelo indico que 9391 jugadores sobrevivieron y en realidad si sobrevivieron, teniendo un margen de error de 0.36% o lo que es igual a que indico que 192 de esos 9391 jugadores que sobrevivieron en realidad no lo hicieron.\n",
        "\n",
        "\n",
        "Este resultado no es confiable debido a que nuestro set de datos tiene un desbalance de clases. Es recomendable que se aplique un tratamiento de balanceo de clases para poder generar una matriz de confusion con valores mas confiables."
      ],
      "metadata": {
        "id": "pqKgKmhu5-GD"
      }
    },
    {
      "cell_type": "markdown",
      "source": [
        "## Modelo 3: RandomForest"
      ],
      "metadata": {
        "id": "P_XTLCTmgaw9"
      }
    },
    {
      "cell_type": "code",
      "source": [
        "# Definir el modelo base\n",
        "rf = RandomForestClassifier()\n",
        "\n",
        "# Especificar los hiperparámetros a buscar\n",
        "param_grid = {\n",
        "    'random_state': [25,30,45,50],\n",
        "    'n_estimators': [1,10],\n",
        "    'max_depth': [None, 5,10],\n",
        "    'min_samples_split': [2,3,4],\n",
        "    'min_samples_leaf': [1, 2, 4]\n",
        "}\n",
        "\n",
        "# Configurar GridSearchCV\n",
        "grid_search = GridSearchCV(\n",
        "    estimator=rf,\n",
        "    param_grid=param_grid,\n",
        "    scoring='roc_auc',  # Optimizar AUC\n",
        "    cv=5,               # Validación cruzada con 5 particiones\n",
        "    verbose=2,\n",
        "    n_jobs=-1\n",
        ")\n",
        "\n",
        "# Realizar la búsqueda\n",
        "grid_search.fit(X_train, y_train)\n",
        "\n",
        "# Obtener los mejores parámetros y el mejor modelo\n",
        "best_params = grid_search.best_params_\n",
        "best_model = grid_search.best_estimator_\n",
        "print(f\"Mejores parámetros: {best_params}\")\n",
        "# Predecir probabilidades en el conjunto de prueba\n",
        "y_pred_prob = best_model.predict_proba(X_test)[:, 1]\n",
        "\n",
        "# Calcular AUC en el conjunto de prueba\n",
        "auc_score = roc_auc_score(y_test, y_pred_prob)\n",
        "print(f\"AUC en el conjunto de prueba: {auc_score:.2f}\")\n",
        "\n",
        "# Calcular los valores de la curva ROC\n",
        "fpr, tpr, thresholds = roc_curve(y_test, y_pred_prob)\n",
        "\n",
        "# Graficar la curva ROC\n",
        "plt.figure(figsize=(8, 6))\n",
        "plt.plot(fpr, tpr, label=f\"Modelo Óptimo (AUC = {auc_score:.2f})\")\n",
        "plt.plot([0, 1], [0, 1], 'k--', label=\"Random (AUC = 0.50)\")\n",
        "plt.xlabel(\"False Positive Rate\")\n",
        "plt.ylabel(\"True Positive Rate\")\n",
        "plt.title(\"Curva ROC para el Modelo Óptimo\")\n",
        "plt.legend(loc=\"lower right\")\n",
        "plt.grid()"
      ],
      "metadata": {
        "colab": {
          "base_uri": "https://localhost:8080/",
          "height": 622
        },
        "id": "HLURUOG1gdGh",
        "outputId": "afc43e10-fac1-4f1e-8925-3bd9ed0d0c79"
      },
      "execution_count": 24,
      "outputs": [
        {
          "output_type": "stream",
          "name": "stdout",
          "text": [
            "Fitting 5 folds for each of 216 candidates, totalling 1080 fits\n",
            "Mejores parámetros: {'max_depth': None, 'min_samples_leaf': 2, 'min_samples_split': 2, 'n_estimators': 10, 'random_state': 25}\n",
            "AUC en el conjunto de prueba: 0.99\n"
          ]
        },
        {
          "output_type": "display_data",
          "data": {
            "text/plain": [
              "<Figure size 800x600 with 1 Axes>"
            ],
            "image/png": "[encoded data removed]"
          },
          "metadata": {}
        }
      ]
    },
    {
      "cell_type": "markdown",
      "source": [
        "Este grafico nos entrega los mejores parametros para el modelo de Random forest\n",
        "\n",
        "Esto nos indica que el modelo creara y buscara el mejor arbol en base a los siguientes:\n",
        "\n",
        "max_depth: None -> Nos indica que no habra una profundidad maxima, es decir, el modelo lo ajustara de forma automatica de acorde a los datos\n",
        "\n",
        "min_samples_leaf:2 -> Indica que deben haber minimo 2 muestras para que un nodo sea una hoja\n",
        "\n",
        "min_samples_split: 2 -> Indica que deben haber minimo 2 muestras para dividir un nodo interno\n",
        "\n",
        "n_estimators: 10 -> Indica que creara 10 arboles en el bosque como maximo para poder evaluar sus rendimientos y entregarnos el mejor\n",
        "\n",
        "random_state: 25 -> Establece una semilla para los generadores aleatorios utilizados en el entrenamiento"
      ],
      "metadata": {
        "id": "W1q7CxL7vyYH"
      }
    },
    {
      "cell_type": "code",
      "source": [
        "randon_model = RandomForestClassifier(max_depth=None, min_samples_leaf=2, min_samples_split=2, n_estimators= 10, random_state= 25)\n",
        "randon_model.fit(X_train, y_train)\n",
        "\n",
        "pred_randon = randon_model.predict(X_test)\n",
        "print(classification_report(y_test, pred_randon))"
      ],
      "metadata": {
        "colab": {
          "base_uri": "https://localhost:8080/"
        },
        "id": "PUjdh2J7g0WU",
        "outputId": "c3b495a1-e877-4e07-a6eb-57227e345346"
      },
      "execution_count": 25,
      "outputs": [
        {
          "output_type": "stream",
          "name": "stdout",
          "text": [
            "              precision    recall  f1-score   support\n",
            "\n",
            "           0       0.99      0.96      0.97     14165\n",
            "           1       0.94      0.99      0.96      9583\n",
            "\n",
            "    accuracy                           0.97     23748\n",
            "   macro avg       0.97      0.97      0.97     23748\n",
            "weighted avg       0.97      0.97      0.97     23748\n",
            "\n"
          ]
        }
      ]
    },
    {
      "cell_type": "code",
      "source": [
        "view_matriz(randon_model, X_test, y_test, target_matriz, \"RandomForest\")"
      ],
      "metadata": {
        "colab": {
          "base_uri": "https://localhost:8080/",
          "height": 489
        },
        "id": "wSVGtQ_l4rEx",
        "outputId": "43ee13b9-1b20-419c-b329-7bceed76352f"
      },
      "execution_count": 26,
      "outputs": [
        {
          "output_type": "display_data",
          "data": {
            "text/plain": [
              "<Figure size 500x500 with 2 Axes>"
            ],
            "image/png": "[encoded data removed]"
          },
          "metadata": {}
        }
      ]
    },
    {
      "cell_type": "markdown",
      "source": [
        "Como podemos observar el modelo en si tiene un margen de error bastante minimo ya que en base a sus valores podemos indicar que:\n",
        "\n",
        "- Clase negativa: El modelo indico que 13553 jugadores no sobrevivieron y en realidad no sobrevivieron, teniendo un margen de error de 1.54% o lo que es igual a que indico que 612 de esos 13553 que indico que murieron en realidad no lo hicieron\n",
        "\n",
        "- Clase positiva: El modelo indico que 9486 jugadores sobrevivieron y en realidad si sobrevivieron, teniendo un margen de error de 0.36% o lo que es igual a que indico que 97 de esos 9486 jugadores que sobrevivieron en realidad no lo hicieron.\n",
        "\n",
        "\n",
        "Este resultado no es confiable debido a que nuestro set de datos tiene un desbalance de clases. Es recomendable que se aplique un tratamiento de balanceo de clases para poder generar una matriz de confusion con valores mas confiables."
      ],
      "metadata": {
        "id": "Bnoo5_VO6zvx"
      }
    },
    {
      "cell_type": "markdown",
      "source": [
        "## Modelo 4: SVM"
      ],
      "metadata": {
        "id": "wcFomO1og9nL"
      }
    },
    {
      "cell_type": "code",
      "source": [
        "svm = SVC(probability=True)  # probability=True es necesario para obtener las probabilidades requeridas por la curva ROC\n",
        "\n",
        "# Definir el espacio de búsqueda de hiperparámetros\n",
        "param_grid = {\n",
        "    'C': [0.1],           # Parámetro de regularización\n",
        "    'gamma': [1],   # Coeficiente del kernel RBF\n",
        "    'kernel': ['rbf']       # Tipos de kernel\n",
        "}\n",
        "\n",
        "# Configurar la búsqueda de hiperparámetros\n",
        "grid_search = GridSearchCV(estimator=svm, param_grid=param_grid, scoring='roc_auc', cv=5, verbose=1)\n",
        "\n",
        "# Realizar la búsqueda\n",
        "grid_search.fit(X_train, y_train)\n",
        "\n",
        "# Obtener los mejores hiperparámetros y el modelo\n",
        "best_params = grid_search.best_params_\n",
        "best_model = grid_search.best_estimator_\n",
        "\n",
        "# Evaluar el modelo en el conjunto de prueba\n",
        "y_proba = best_model.predict_proba(X_test)[:, 1]  # Obtener las probabilidades de la clase positiva\n",
        "auc_roc = roc_auc_score(y_test, y_proba)\n",
        "\n",
        "print(\"Mejores hiperparámetros:\", best_params)\n",
        "print(\"AUC-ROC en el conjunto de prueba:\", auc_roc)\n",
        "\n",
        "# Graficar la curva ROC\n",
        "fpr, tpr, thresholds = roc_curve(y_test, y_proba)\n",
        "plt.figure(figsize=(8, 6))\n",
        "plt.plot(fpr, tpr, label=f'Curva ROC (AUC = {auc_roc:.2f})')\n",
        "plt.plot([0, 1], [0, 1], 'k--', label='Clasificador aleatorio')\n",
        "plt.xlabel('Tasa de Falsos Positivos (FPR)')\n",
        "plt.ylabel('Tasa de Verdaderos Positivos (TPR)')\n",
        "plt.title('Curva ROC')\n",
        "plt.legend(loc='lower right')\n",
        "plt.grid()\n",
        "plt.show()"
      ],
      "metadata": {
        "colab": {
          "base_uri": "https://localhost:8080/",
          "height": 619
        },
        "id": "g0sQXH_Sg_mt",
        "outputId": "4f52b5e2-2d4f-447e-d0b8-0e48a74093ac"
      },
      "execution_count": 27,
      "outputs": [
        {
          "output_type": "stream",
          "name": "stdout",
          "text": [
            "Fitting 5 folds for each of 1 candidates, totalling 5 fits\n",
            "Mejores hiperparámetros: {'C': 0.1, 'gamma': 1, 'kernel': 'rbf'}\n",
            "AUC-ROC en el conjunto de prueba: 0.973775661461335\n"
          ]
        },
        {
          "output_type": "display_data",
          "data": {
            "text/plain": [
              "<Figure size 800x600 with 1 Axes>"
            ],
            "image/png": "[encoded data removed]"
          },
          "metadata": {}
        }
      ]
    },
    {
      "cell_type": "markdown",
      "source": [
        "Este grafico nos indica los mejores parametros para el modelo de SVM\n",
        "\n",
        "Esto nos indica que los siguientes parametros:\n",
        "\n",
        "C: 0.1 -> Indica la regularizacion del modelo para balancear su complejidad y el margen de clasificacion.\n",
        "\n",
        "Gamma: 1 -> Indica como afecta cada punto de los valores al modelo\n",
        "\n",
        "Kernel: rbf -> Indica el tipo de funcion de nucleo utilizada para transformar los datos en un espacio de mayor dimension"
      ],
      "metadata": {
        "id": "1cEhBWRnwuLa"
      }
    },
    {
      "cell_type": "code",
      "source": [
        "svm_model = SVC( C = 0.1, gamma = 1, kernel='rbf')\n",
        "svm_model.fit(X_train, y_train)\n",
        "\n",
        "pred_svm = svm_model.predict(X_test)\n",
        "print(classification_report(y_test, pred_svm))"
      ],
      "metadata": {
        "colab": {
          "base_uri": "https://localhost:8080/"
        },
        "id": "HL-5l3g0hDM7",
        "outputId": "a57fb7d1-8e23-4a45-cd92-6f40ac774d3e"
      },
      "execution_count": 28,
      "outputs": [
        {
          "output_type": "stream",
          "name": "stdout",
          "text": [
            "              precision    recall  f1-score   support\n",
            "\n",
            "           0       1.00      0.92      0.96     14165\n",
            "           1       0.89      1.00      0.94      9583\n",
            "\n",
            "    accuracy                           0.95     23748\n",
            "   macro avg       0.95      0.96      0.95     23748\n",
            "weighted avg       0.96      0.95      0.95     23748\n",
            "\n"
          ]
        }
      ]
    },
    {
      "cell_type": "code",
      "source": [
        "view_matriz(svm_model, X_test, y_test, target_matriz, \"Support Vector Machine\")"
      ],
      "metadata": {
        "colab": {
          "base_uri": "https://localhost:8080/",
          "height": 491
        },
        "id": "gEt1gQfV407B",
        "outputId": "4bde486b-7640-4769-814d-2bef15728bbc"
      },
      "execution_count": 29,
      "outputs": [
        {
          "output_type": "display_data",
          "data": {
            "text/plain": [
              "<Figure size 500x500 with 2 Axes>"
            ],
            "image/png": "[encoded data removed]"
          },
          "metadata": {}
        }
      ]
    },
    {
      "cell_type": "markdown",
      "source": [
        "Como podemos observar el modelo en si tiene un margen de error bastante minimo ya que en base a sus valores podemos indicar que:\n",
        "\n",
        "- Clase negativa: El modelo indico que 13028 jugadores no sobrevivieron y en realidad no sobrevivieron, teniendo un margen de error de 1.54% o lo que es igual a que indico que 1137 de esos 13028 que indico que murieron en realidad no lo hicieron\n",
        "\n",
        "- Clase positiva: El modelo indico que 9549 jugadores sobrevivieron y en realidad si sobrevivieron, teniendo un margen de error de 0.36% o lo que es igual a que indico que 34 de esos 9549 jugadores que sobrevivieron en realidad no lo hicieron.\n",
        "\n",
        "\n",
        "Este resultado no es confiable debido a que nuestro set de datos tiene un desbalance de clases. Es recomendable que se aplique un tratamiento de balanceo de clases para poder generar una matriz de confusion con valores mas confiables."
      ],
      "metadata": {
        "id": "7q31OOOw67UB"
      }
    },
    {
      "cell_type": "markdown",
      "source": [
        "# Fase 5 - Evaluación"
      ],
      "metadata": {
        "id": "zOdEvdnDzNLy"
      }
    },
    {
      "cell_type": "markdown",
      "source": [
        "En este caso, tomando en cuenta la representatividad de nuestra variable objetivo en el negocio, se decidio que la metrica mas relevante para indicar que modelo es el mejor sera F1-score\n",
        "\n",
        "Esto debido a que F1-score representa un balance optimo entre las metricas de precision y recall.\n",
        "\n",
        "A continuacion aplicaremos una funcion la cual tomara todos los modelos, calculara la metrica y nos entregara el mejor."
      ],
      "metadata": {
        "id": "Nl-WV4HKxUeJ"
      }
    },
    {
      "cell_type": "code",
      "source": [
        "models = {\n",
        "    \"KNN\": model_knn,\n",
        "    \"DecisionTreeClassifier\": tree_model,\n",
        "    \"RandomForest\": randon_model,\n",
        "    \"SVM\": svm_model\n",
        "}\n",
        "\n",
        "\n",
        "\n",
        "best_model, scores = get_best_model_by_f1(models, X_test, y_test)\n",
        "print(\"El mejor modelo, basandonos en la metrica de F1-score, es el modelo {} con un F1-score de {}\".format(best_model, scores))"
      ],
      "metadata": {
        "id": "ZmWBDKJgWCmZ",
        "colab": {
          "base_uri": "https://localhost:8080/"
        },
        "outputId": "1157e19a-9cde-443c-ed94-1e8c80b5f2a7"
      },
      "execution_count": 30,
      "outputs": [
        {
          "output_type": "stream",
          "name": "stdout",
          "text": [
            "F1 Scores de los modelos: {'KNN': 0.9810507263431412, 'DecisionTreeClassifier': 0.9611224422280006, 'RandomForest': 0.9702590827764008, 'SVM': 0.9510334530448834}\n",
            "El mejor modelo, basandonos en la metrica de F1-score, es el modelo KNN con un F1-score de 0.9810507263431412\n"
          ]
        }
      ]
    },
    {
      "cell_type": "code",
      "source": [
        "report_knn = classification_report(y_test, pred_knn)\n",
        "print(report_knn)"
      ],
      "metadata": {
        "colab": {
          "base_uri": "https://localhost:8080/"
        },
        "id": "gU4xAgTFyYsm",
        "outputId": "32bda163-7cea-4f7a-b032-b925e659d95c"
      },
      "execution_count": 31,
      "outputs": [
        {
          "output_type": "stream",
          "name": "stdout",
          "text": [
            "              precision    recall  f1-score   support\n",
            "\n",
            "           0       0.99      0.97      0.98     14165\n",
            "           1       0.96      0.99      0.98      9583\n",
            "\n",
            "    accuracy                           0.98     23748\n",
            "   macro avg       0.98      0.98      0.98     23748\n",
            "weighted avg       0.98      0.98      0.98     23748\n",
            "\n"
          ]
        }
      ]
    },
    {
      "cell_type": "markdown",
      "source": [
        "Tomando ahora todas las metricas disponibles de nuestro mejor modelo (KNN) podemos indicar lo siguiente:\n",
        "\n",
        "**Accuracy (98%):**\n",
        "\n",
        "El modelo clasifica correctamente el 98% de las observaciones en promedio, lo que indica un excelente desempeño general. sin embargo, esta metrica es la menos relevante debido a que hay presencia de desbalance de clases ya que en nuestro dataset hay mas jugadores que sobrevivieron una ronda en especifico.\n",
        "\n",
        "**Precision:**\n",
        "\n",
        "- Clase 0 (0.99): Cuando el modelo predice la clase 0, acierta el 99% de las veces, lo que indica que no tiene muchas predicciones de que un jugador no sobrevivio cuando en realidad si lo hizo\n",
        "- Clase 1 (0.96): Para la clase 1, el modelo tiene una precisión del 96%, lo que indica que no tiene muchas predicciones de que un jugador sobrevivio cuando en realidad no lo hizo\n",
        "\n",
        "**Recall:**\n",
        "\n",
        "- Clase 0 (0.97): El modelo identifica correctamente el 97% de los casos reales de la clase 0, similar a la precision quiere decir que el modelo tiene pocos errores al predecir que una persona no sobrevivio y que en realidad sobrevivio\n",
        "- Clase 1 (0.99): Para la clase 1, el modelo identifica correctamente el 99% de los casos reales, teniendo un desempeño excepcional y con pocos errores al decir que un jugador sobrevivio cuando en realidad no lo hizo.\n",
        "\n",
        "**F1-Score:**\n",
        "\n",
        "- Clase 0 (0.98): El balance entre precisión y sensibilidad para la clase 0 es sobresaliente, logrando predecir con un buen desempeño que un jugador no sobrevivio cuando en realidad no lo hizo\n",
        "- Clase 1 (0.98): Para la clase 1, el modelo también logra un excelente equilibrio, logrando predecir con un buen desempeño que un jugador sobrevivio cuando en realidad si lo hizo."
      ],
      "metadata": {
        "id": "Xly5LTUbyeLc"
      }
    },
    {
      "cell_type": "markdown",
      "source": [
        "# Fase 6 - Deployment"
      ],
      "metadata": {
        "id": "8g-efcJsX3Ld"
      }
    },
    {
      "cell_type": "code",
      "source": [
        "best_model = model_knn\n",
        "data_artificial = pd.DataFrame({\n",
        "    col: np.random.uniform(data[col].min(), data[col].max(), 5) for col in caracteristicas_ind\n",
        "})\n",
        "\n",
        "data_artificial.head(5)"
      ],
      "metadata": {
        "id": "-7VzL4lAX_GW",
        "colab": {
          "base_uri": "https://localhost:8080/",
          "height": 206
        },
        "outputId": "512ac264-f624-48ea-d18b-fa0d8c0db1ee"
      },
      "execution_count": 32,
      "outputs": [
        {
          "output_type": "execute_result",
          "data": {
            "text/plain": [
              "   ScaledTimeAlive  RoundStartingEquipmentValue  RoundKills  AvgKillDistance\n",
              "0         3.759219                     0.367645    0.153501         4.381696\n",
              "1         4.083391                     0.601397    2.265936        13.544862\n",
              "2         3.204070                     1.734165    0.837019         8.229550\n",
              "3         1.806816                    -0.623534    0.051387        15.886419\n",
              "4         3.025254                    -0.041521    4.861260        12.886184"
            ],
            "text/html": [
              "\n",
              "  <div id=\"df-3acf7af5-2d6a-4fde-a7e7-8d173df55109\" class=\"colab-df-container\">\n",
              "    <div>\n",
              "<style scoped>\n",
              "    .dataframe tbody tr th:only-of-type {\n",
              "        vertical-align: middle;\n",
              "    }\n",
              "\n",
              "    .dataframe tbody tr th {\n",
              "        vertical-align: top;\n",
              "    }\n",
              "\n",
              "    .dataframe thead th {\n",
              "        text-align: right;\n",
              "    }\n",
              "</style>\n",
              "<table border=\"1\" class=\"dataframe\">\n",
              "  <thead>\n",
              "    <tr style=\"text-align: right;\">\n",
              "      <th></th>\n",
              "      <th>ScaledTimeAlive</th>\n",
              "      <th>RoundStartingEquipmentValue</th>\n",
              "      <th>RoundKills</th>\n",
              "      <th>AvgKillDistance</th>\n",
              "    </tr>\n",
              "  </thead>\n",
              "  <tbody>\n",
              "    <tr>\n",
              "      <th>0</th>\n",
              "      <td>3.759219</td>\n",
              "      <td>0.367645</td>\n",
              "      <td>0.153501</td>\n",
              "      <td>4.381696</td>\n",
              "    </tr>\n",
              "    <tr>\n",
              "      <th>1</th>\n",
              "      <td>4.083391</td>\n",
              "      <td>0.601397</td>\n",
              "      <td>2.265936</td>\n",
              "      <td>13.544862</td>\n",
              "    </tr>\n",
              "    <tr>\n",
              "      <th>2</th>\n",
              "      <td>3.204070</td>\n",
              "      <td>1.734165</td>\n",
              "      <td>0.837019</td>\n",
              "      <td>8.229550</td>\n",
              "    </tr>\n",
              "    <tr>\n",
              "      <th>3</th>\n",
              "      <td>1.806816</td>\n",
              "      <td>-0.623534</td>\n",
              "      <td>0.051387</td>\n",
              "      <td>15.886419</td>\n",
              "    </tr>\n",
              "    <tr>\n",
              "      <th>4</th>\n",
              "      <td>3.025254</td>\n",
              "      <td>-0.041521</td>\n",
              "      <td>4.861260</td>\n",
              "      <td>12.886184</td>\n",
              "    </tr>\n",
              "  </tbody>\n",
              "</table>\n",
              "</div>\n",
              "    <div class=\"colab-df-buttons\">\n",
              "\n",
              "  <div class=\"colab-df-container\">\n",
              "    <button class=\"colab-df-convert\" onclick=\"convertToInteractive('df-3acf7af5-2d6a-4fde-a7e7-8d173df55109')\"\n",
              "            title=\"Convert this dataframe to an interactive table.\"\n",
              "            style=\"display:none;\">\n",
              "\n",
              "  <svg xmlns=\"http://www.w3.org/2000/svg\" height=\"24px\" viewBox=\"0 -960 960 960\">\n",
              "    <path d=\"M120-120v-720h720v720H120Zm60-500h600v-160H180v160Zm220 220h160v-160H400v160Zm0 220h160v-160H400v160ZM180-400h160v-160H180v160Zm440 0h160v-160H620v160ZM180-180h160v-160H180v160Zm440 0h160v-160H620v160Z\"/>\n",
              "  </svg>\n",
              "    </button>\n",
              "\n",
              "  <style>\n",
              "    .colab-df-container {\n",
              "      display:flex;\n",
              "      gap: 12px;\n",
              "    }\n",
              "\n",
              "    .colab-df-convert {\n",
              "      background-color: #E8F0FE;\n",
              "      border: none;\n",
              "      border-radius: 50%;\n",
              "      cursor: pointer;\n",
              "      display: none;\n",
              "      fill: #1967D2;\n",
              "      height: 32px;\n",
              "      padding: 0 0 0 0;\n",
              "      width: 32px;\n",
              "    }\n",
              "\n",
              "    .colab-df-convert:hover {\n",
              "      background-color: #E2EBFA;\n",
              "      box-shadow: 0px 1px 2px rgba(60, 64, 67, 0.3), 0px 1px 3px 1px rgba(60, 64, 67, 0.15);\n",
              "      fill: #174EA6;\n",
              "    }\n",
              "\n",
              "    .colab-df-buttons div {\n",
              "      margin-bottom: 4px;\n",
              "    }\n",
              "\n",
              "    [theme=dark] .colab-df-convert {\n",
              "      background-color: #3B4455;\n",
              "      fill: #D2E3FC;\n",
              "    }\n",
              "\n",
              "    [theme=dark] .colab-df-convert:hover {\n",
              "      background-color: #434B5C;\n",
              "      box-shadow: 0px 1px 3px 1px rgba(0, 0, 0, 0.15);\n",
              "      filter: drop-shadow(0px 1px 2px rgba(0, 0, 0, 0.3));\n",
              "      fill: #FFFFFF;\n",
              "    }\n",
              "  </style>\n",
              "\n",
              "    <script>\n",
              "      const buttonEl =\n",
              "        document.querySelector('#df-3acf7af5-2d6a-4fde-a7e7-8d173df55109 button.colab-df-convert');\n",
              "      buttonEl.style.display =\n",
              "        google.colab.kernel.accessAllowed ? 'block' : 'none';\n",
              "\n",
              "      async function convertToInteractive(key) {\n",
              "        const element = document.querySelector('#df-3acf7af5-2d6a-4fde-a7e7-8d173df55109');\n",
              "        const dataTable =\n",
              "          await google.colab.kernel.invokeFunction('convertToInteractive',\n",
              "                                                    [key], {});\n",
              "        if (!dataTable) return;\n",
              "\n",
              "        const docLinkHtml = 'Like what you see? Visit the ' +\n",
              "          '<a target=\"_blank\" href=https://colab.research.google.com/notebooks/data_table.ipynb>data table notebook</a>'\n",
              "          + ' to learn more about interactive tables.';\n",
              "        element.innerHTML = '';\n",
              "        dataTable['output_type'] = 'display_data';\n",
              "        await google.colab.output.renderOutput(dataTable, element);\n",
              "        const docLink = document.createElement('div');\n",
              "        docLink.innerHTML = docLinkHtml;\n",
              "        element.appendChild(docLink);\n",
              "      }\n",
              "    </script>\n",
              "  </div>\n",
              "\n",
              "\n",
              "<div id=\"df-619bf4eb-387c-4cc9-a493-8ff020bb400e\">\n",
              "  <button class=\"colab-df-quickchart\" onclick=\"quickchart('df-619bf4eb-387c-4cc9-a493-8ff020bb400e')\"\n",
              "            title=\"Suggest charts\"\n",
              "            style=\"display:none;\">\n",
              "\n",
              "<svg xmlns=\"http://www.w3.org/2000/svg\" height=\"24px\"viewBox=\"0 0 24 24\"\n",
              "     width=\"24px\">\n",
              "    <g>\n",
              "        <path d=\"M19 3H5c-1.1 0-2 .9-2 2v14c0 1.1.9 2 2 2h14c1.1 0 2-.9 2-2V5c0-1.1-.9-2-2-2zM9 17H7v-7h2v7zm4 0h-2V7h2v10zm4 0h-2v-4h2v4z\"/>\n",
              "    </g>\n",
              "</svg>\n",
              "  </button>\n",
              "\n",
              "<style>\n",
              "  .colab-df-quickchart {\n",
              "      --bg-color: #E8F0FE;\n",
              "      --fill-color: #1967D2;\n",
              "      --hover-bg-color: #E2EBFA;\n",
              "      --hover-fill-color: #174EA6;\n",
              "      --disabled-fill-color: #AAA;\n",
              "      --disabled-bg-color: #DDD;\n",
              "  }\n",
              "\n",
              "  [theme=dark] .colab-df-quickchart {\n",
              "      --bg-color: #3B4455;\n",
              "      --fill-color: #D2E3FC;\n",
              "      --hover-bg-color: #434B5C;\n",
              "      --hover-fill-color: #FFFFFF;\n",
              "      --disabled-bg-color: #3B4455;\n",
              "      --disabled-fill-color: #666;\n",
              "  }\n",
              "\n",
              "  .colab-df-quickchart {\n",
              "    background-color: var(--bg-color);\n",
              "    border: none;\n",
              "    border-radius: 50%;\n",
              "    cursor: pointer;\n",
              "    display: none;\n",
              "    fill: var(--fill-color);\n",
              "    height: 32px;\n",
              "    padding: 0;\n",
              "    width: 32px;\n",
              "  }\n",
              "\n",
              "  .colab-df-quickchart:hover {\n",
              "    background-color: var(--hover-bg-color);\n",
              "    box-shadow: 0 1px 2px rgba(60, 64, 67, 0.3), 0 1px 3px 1px rgba(60, 64, 67, 0.15);\n",
              "    fill: var(--button-hover-fill-color);\n",
              "  }\n",
              "\n",
              "  .colab-df-quickchart-complete:disabled,\n",
              "  .colab-df-quickchart-complete:disabled:hover {\n",
              "    background-color: var(--disabled-bg-color);\n",
              "    fill: var(--disabled-fill-color);\n",
              "    box-shadow: none;\n",
              "  }\n",
              "\n",
              "  .colab-df-spinner {\n",
              "    border: 2px solid var(--fill-color);\n",
              "    border-color: transparent;\n",
              "    border-bottom-color: var(--fill-color);\n",
              "    animation:\n",
              "      spin 1s steps(1) infinite;\n",
              "  }\n",
              "\n",
              "  @keyframes spin {\n",
              "    0% {\n",
              "      border-color: transparent;\n",
              "      border-bottom-color: var(--fill-color);\n",
              "      border-left-color: var(--fill-color);\n",
              "    }\n",
              "    20% {\n",
              "      border-color: transparent;\n",
              "      border-left-color: var(--fill-color);\n",
              "      border-top-color: var(--fill-color);\n",
              "    }\n",
              "    30% {\n",
              "      border-color: transparent;\n",
              "      border-left-color: var(--fill-color);\n",
              "      border-top-color: var(--fill-color);\n",
              "      border-right-color: var(--fill-color);\n",
              "    }\n",
              "    40% {\n",
              "      border-color: transparent;\n",
              "      border-right-color: var(--fill-color);\n",
              "      border-top-color: var(--fill-color);\n",
              "    }\n",
              "    60% {\n",
              "      border-color: transparent;\n",
              "      border-right-color: var(--fill-color);\n",
              "    }\n",
              "    80% {\n",
              "      border-color: transparent;\n",
              "      border-right-color: var(--fill-color);\n",
              "      border-bottom-color: var(--fill-color);\n",
              "    }\n",
              "    90% {\n",
              "      border-color: transparent;\n",
              "      border-bottom-color: var(--fill-color);\n",
              "    }\n",
              "  }\n",
              "</style>\n",
              "\n",
              "  <script>\n",
              "    async function quickchart(key) {\n",
              "      const quickchartButtonEl =\n",
              "        document.querySelector('#' + key + ' button');\n",
              "      quickchartButtonEl.disabled = true;  // To prevent multiple clicks.\n",
              "      quickchartButtonEl.classList.add('colab-df-spinner');\n",
              "      try {\n",
              "        const charts = await google.colab.kernel.invokeFunction(\n",
              "            'suggestCharts', [key], {});\n",
              "      } catch (error) {\n",
              "        console.error('Error during call to suggestCharts:', error);\n",
              "      }\n",
              "      quickchartButtonEl.classList.remove('colab-df-spinner');\n",
              "      quickchartButtonEl.classList.add('colab-df-quickchart-complete');\n",
              "    }\n",
              "    (() => {\n",
              "      let quickchartButtonEl =\n",
              "        document.querySelector('#df-619bf4eb-387c-4cc9-a493-8ff020bb400e button');\n",
              "      quickchartButtonEl.style.display =\n",
              "        google.colab.kernel.accessAllowed ? 'block' : 'none';\n",
              "    })();\n",
              "  </script>\n",
              "</div>\n",
              "\n",
              "    </div>\n",
              "  </div>\n"
            ],
            "application/vnd.google.colaboratory.intrinsic+json": {
              "type": "dataframe",
              "variable_name": "data_artificial",
              "summary": "{\n  \"name\": \"data_artificial\",\n  \"rows\": 5,\n  \"fields\": [\n    {\n      \"column\": \"ScaledTimeAlive\",\n      \"properties\": {\n        \"dtype\": \"number\",\n        \"std\": 0.8748828341815769,\n        \"min\": 1.8068159191379989,\n        \"max\": 4.083391233126792,\n        \"num_unique_values\": 5,\n        \"samples\": [\n          4.083391233126792,\n          3.0252541156622152,\n          3.2040701241927856\n        ],\n        \"semantic_type\": \"\",\n        \"description\": \"\"\n      }\n    },\n    {\n      \"column\": \"RoundStartingEquipmentValue\",\n      \"properties\": {\n        \"dtype\": \"number\",\n        \"std\": 0.8751964814210383,\n        \"min\": -0.6235344961019904,\n        \"max\": 1.7341646092444165,\n        \"num_unique_values\": 5,\n        \"samples\": [\n          0.6013970028195295,\n          -0.04152121668677,\n          1.7341646092444165\n        ],\n        \"semantic_type\": \"\",\n        \"description\": \"\"\n      }\n    },\n    {\n      \"column\": \"RoundKills\",\n      \"properties\": {\n        \"dtype\": \"number\",\n        \"std\": 2.009121021192592,\n        \"min\": 0.051386988352617124,\n        \"max\": 4.861259647719563,\n        \"num_unique_values\": 5,\n        \"samples\": [\n          2.2659359610352445,\n          4.861259647719563,\n          0.8370187195088291\n        ],\n        \"semantic_type\": \"\",\n        \"description\": \"\"\n      }\n    },\n    {\n      \"column\": \"AvgKillDistance\",\n      \"properties\": {\n        \"dtype\": \"number\",\n        \"std\": 4.6202657809949725,\n        \"min\": 4.3816964944576196,\n        \"max\": 15.88641931000386,\n        \"num_unique_values\": 5,\n        \"samples\": [\n          13.544861925663046,\n          12.886184445987364,\n          8.22955040150101\n        ],\n        \"semantic_type\": \"\",\n        \"description\": \"\"\n      }\n    }\n  ]\n}"
            }
          },
          "metadata": {},
          "execution_count": 32
        }
      ]
    },
    {
      "cell_type": "code",
      "source": [
        "X_artificial_PCA = pca.transform(data_artificial[caracteristicas_ind])\n",
        "X_artificial_PCA.shape"
      ],
      "metadata": {
        "colab": {
          "base_uri": "https://localhost:8080/"
        },
        "id": "YcA-zezA_bun",
        "outputId": "f9e0adcc-de28-4584-8f9b-beb6a3dda5d4"
      },
      "execution_count": 33,
      "outputs": [
        {
          "output_type": "execute_result",
          "data": {
            "text/plain": [
              "(5, 3)"
            ]
          },
          "metadata": {},
          "execution_count": 33
        }
      ]
    },
    {
      "cell_type": "code",
      "source": [
        "data_pca_transformed = pd.DataFrame(X_artificial_PCA)\n",
        "data_pca_transformed.shape"
      ],
      "metadata": {
        "colab": {
          "base_uri": "https://localhost:8080/"
        },
        "id": "apWso-QJACR_",
        "outputId": "fae4e5d1-3910-448f-99cc-ad4a1e8cb321"
      },
      "execution_count": 34,
      "outputs": [
        {
          "output_type": "execute_result",
          "data": {
            "text/plain": [
              "(5, 3)"
            ]
          },
          "metadata": {},
          "execution_count": 34
        }
      ]
    },
    {
      "cell_type": "code",
      "source": [
        "datos_json = data_pca_transformed.to_json(orient=\"records\", indent=4)\n",
        "print(\"JSON generado:\")\n",
        "print(datos_json)\n",
        "\n",
        "# Guardar el JSON en un archivo\n",
        "with open(\"datos_artificiales_pca.json\", \"w\") as archivo:\n",
        "    archivo.write(datos_json)"
      ],
      "metadata": {
        "colab": {
          "base_uri": "https://localhost:8080/"
        },
        "id": "NK4_LeGb_6Lz",
        "outputId": "48396ad2-9cb7-46fe-b619-e3b3c35e09bd"
      },
      "execution_count": 51,
      "outputs": [
        {
          "output_type": "stream",
          "name": "stdout",
          "text": [
            "JSON generado:\n",
            "[\n",
            "    {\n",
            "        \"0\":4.3330767051,\n",
            "        \"1\":-1.4378308463,\n",
            "        \"2\":0.2342211287\n",
            "    },\n",
            "    {\n",
            "        \"0\":11.0243750101,\n",
            "        \"1\":-1.2689159016,\n",
            "        \"2\":-5.0227974806\n",
            "    },\n",
            "    {\n",
            "        \"0\":7.1336275418,\n",
            "        \"1\":0.0888836299,\n",
            "        \"2\":-1.8815025053\n",
            "    },\n",
            "    {\n",
            "        \"0\":9.5765687676,\n",
            "        \"1\":-0.7435050952,\n",
            "        \"2\":-7.9854796915\n",
            "    },\n",
            "    {\n",
            "        \"0\":11.5796245351,\n",
            "        \"1\":-1.6412926624,\n",
            "        \"2\":-6.1493810134\n",
            "    }\n",
            "]\n"
          ]
        }
      ]
    },
    {
      "cell_type": "code",
      "source": [
        "file_model = open('best_model.pkl', 'wb')\n",
        "\n",
        "pickle.dump(best_model, file_model)\n",
        "\n",
        "file_model.close()"
      ],
      "metadata": {
        "id": "YBsCzCUeCSCI"
      },
      "execution_count": 36,
      "outputs": []
    },
    {
      "cell_type": "code",
      "source": [
        "# Guardar tanto el modelo como el PCA en un archivo\n",
        "filename = 'best_model.pkl'\n",
        "\n",
        "with open(filename, 'wb') as file:\n",
        "    pickle.dump(best_model, file)\n",
        "    print(f\"Modelo y PCA guardados como {filename}\")"
      ],
      "metadata": {
        "colab": {
          "base_uri": "https://localhost:8080/"
        },
        "id": "2pshbpsohbio",
        "outputId": "59bd0aab-2837-4b02-edc8-11226d5465cc"
      },
      "execution_count": 37,
      "outputs": [
        {
          "output_type": "stream",
          "name": "stdout",
          "text": [
            "Modelo y PCA guardados como best_model.pkl\n"
          ]
        }
      ]
    },
    {
      "cell_type": "markdown",
      "source": [
        "# Pregunta final\n",
        "\n",
        "¿Qué modelo recomendaría utilizar para cumplir con el objetivo propuesto al inicio? Deberá justificar su respuesta usando los resultados obtenidos\n",
        "\n",
        "En base al resultado obtenido en cada uno de los modelos, el unico modelo que puede cumplir con los criterios necesarios para su implementacion seria el modelo de KNN (KneighborsClassifier) pero teniendo en cuenta la presencia de sesgo debido al desbalance de clases y la presencia de valores atipicos. Es recomendable que se haga un tratamiento de datos exahustivo para poder mejorar el rendimiento del modelo y evitar los sobre ajustes."
      ],
      "metadata": {
        "id": "322yq_PEzQUI"
      }
    }
  ]
}